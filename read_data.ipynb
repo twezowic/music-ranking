{
 "cells": [
  {
   "cell_type": "code",
   "execution_count": 1,
   "metadata": {},
   "outputs": [],
   "source": [
    "import pandas as pd\n",
    "import numpy as np\n",
    "import json\n",
    "from pprint import pprint"
   ]
  },
  {
   "cell_type": "code",
   "execution_count": 2,
   "metadata": {},
   "outputs": [],
   "source": [
    "def jsonl2df(path):\n",
    "    with open(path) as fh:\n",
    "        lines = fh.read().splitlines()\n",
    "\n",
    "    df_inter = pd.DataFrame(lines)\n",
    "    df_inter.columns = ['json_element']\n",
    "\n",
    "\n",
    "    df_inter['json_element'].apply(json.loads)\n",
    "\n",
    "    return pd.json_normalize(df_inter['json_element'].apply(json.loads))\n",
    "\n",
    "artists = jsonl2df(\"datav1/artists.jsonl\")\n",
    "sessions = jsonl2df(\"datav1/sessions.jsonl\")\n",
    "tracks = jsonl2df(\"datav1/tracks.jsonl\")\n",
    "users = jsonl2df(\"datav1/users.jsonl\")"
   ]
  },
  {
   "cell_type": "markdown",
   "metadata": {},
   "source": [
    "1. definicję problemu biznesowego, zdefiniowanie zadania/zadań modelowania i \n",
    "wszystkich założeń, zaproponowania kryteriów sukcesu\n",
    "\n",
    "Temat:  “Fajnie byłoby rozszerzyć nasz serwis o generowanie popularnych playlist – zestawów \n",
    "pasujących do siebie utworów, których słuchaniem zainteresowane będzie wiele osób”\n",
    "\n",
    "Problem biznesowy: Grupowanie podobnych utworów które dodatkowo mają wysoki stopnień popularności\n",
    "\n",
    "Zadania modelowania:\n",
    "- Grupowanie utworów podobnych do siebie\n",
    "- Rankingowanie utworów pod względem popularności\n",
    "\n",
    "Założenia:\n",
    "- grupa utworów składa się minimum z 3 utworów\n",
    "- popularne utwory to takie które posiadają stopień popularności w górnej 25%\n",
    "- popularność będzie ustalana na podstawie wskaźnika popularności oraz ilości odtworzeń utworu\n",
    "\n",
    "Kryteria sukcesu:\n",
    "- biznesowe:\n",
    "    - Utworzone playlisty będą wyświetlane przez x % użytkowników serwisu\n",
    "\n",
    "- analityczne:\n",
    "    - Analiza interakcji użytkowników z playlistami, takie jak liczba odtworzeń utworów w playlistach, polubienia\n"
   ]
  },
  {
   "cell_type": "markdown",
   "metadata": {},
   "source": [
    "# Analizę danych\n",
    "\n",
    "z perspektywy realizacji tych zadań (trzeba ocenić, czy dostarczone \n",
    "dane są wystarczające – może czegoś brakuje, może coś trzeba poprawić, domagać \n",
    "się innych danych, …)"
   ]
  },
  {
   "cell_type": "code",
   "execution_count": 4,
   "metadata": {},
   "outputs": [],
   "source": [
    "def get_nulls(df):\n",
    "    for column in df.columns:\n",
    "        nan_count = df[column].isna().sum()\n",
    "        if nan_count:\n",
    "            print(f'Number of NaN in column {column}: {nan_count}')"
   ]
  },
  {
   "cell_type": "markdown",
   "metadata": {},
   "source": [
    "## Wykonawcy"
   ]
  },
  {
   "cell_type": "code",
   "execution_count": 5,
   "metadata": {},
   "outputs": [
    {
     "data": {
      "text/html": [
       "<div>\n",
       "<style scoped>\n",
       "    .dataframe tbody tr th:only-of-type {\n",
       "        vertical-align: middle;\n",
       "    }\n",
       "\n",
       "    .dataframe tbody tr th {\n",
       "        vertical-align: top;\n",
       "    }\n",
       "\n",
       "    .dataframe thead th {\n",
       "        text-align: right;\n",
       "    }\n",
       "</style>\n",
       "<table border=\"1\" class=\"dataframe\">\n",
       "  <thead>\n",
       "    <tr style=\"text-align: right;\">\n",
       "      <th></th>\n",
       "      <th>id</th>\n",
       "      <th>name</th>\n",
       "      <th>genres</th>\n",
       "    </tr>\n",
       "  </thead>\n",
       "  <tbody>\n",
       "    <tr>\n",
       "      <th>0</th>\n",
       "      <td>7jVv8c5Fj3E9VhNjxT4snq</td>\n",
       "      <td>Lil Nas X</td>\n",
       "      <td>[country rap, lgbtq+ hip hop, pop rap, queer c...</td>\n",
       "    </tr>\n",
       "    <tr>\n",
       "      <th>1</th>\n",
       "      <td>0xRXCcSX89eobfrshSVdyu</td>\n",
       "      <td>MEDUZA</td>\n",
       "      <td>[dance pop, edm, pop dance, pop house, tropica...</td>\n",
       "    </tr>\n",
       "    <tr>\n",
       "      <th>2</th>\n",
       "      <td>3OKg7YbOIatODzkRIbLJR4</td>\n",
       "      <td>TheFatRat</td>\n",
       "      <td>[speedrun]</td>\n",
       "    </tr>\n",
       "    <tr>\n",
       "      <th>3</th>\n",
       "      <td>4f7KfxeHq9BiylGmyXepGt</td>\n",
       "      <td>Tanishk Bagchi</td>\n",
       "      <td>[desi pop, filmi, modern bollywood]</td>\n",
       "    </tr>\n",
       "    <tr>\n",
       "      <th>4</th>\n",
       "      <td>56mfhUDKa1vec6rSLZV5Eg</td>\n",
       "      <td>Jawsh 685</td>\n",
       "      <td>[nz pop]</td>\n",
       "    </tr>\n",
       "  </tbody>\n",
       "</table>\n",
       "</div>"
      ],
      "text/plain": [
       "                       id            name  \\\n",
       "0  7jVv8c5Fj3E9VhNjxT4snq       Lil Nas X   \n",
       "1  0xRXCcSX89eobfrshSVdyu          MEDUZA   \n",
       "2  3OKg7YbOIatODzkRIbLJR4       TheFatRat   \n",
       "3  4f7KfxeHq9BiylGmyXepGt  Tanishk Bagchi   \n",
       "4  56mfhUDKa1vec6rSLZV5Eg       Jawsh 685   \n",
       "\n",
       "                                              genres  \n",
       "0  [country rap, lgbtq+ hip hop, pop rap, queer c...  \n",
       "1  [dance pop, edm, pop dance, pop house, tropica...  \n",
       "2                                         [speedrun]  \n",
       "3                [desi pop, filmi, modern bollywood]  \n",
       "4                                           [nz pop]  "
      ]
     },
     "execution_count": 5,
     "metadata": {},
     "output_type": "execute_result"
    }
   ],
   "source": [
    "artists.head()"
   ]
  },
  {
   "cell_type": "code",
   "execution_count": 6,
   "metadata": {},
   "outputs": [
    {
     "name": "stdout",
     "output_type": "stream",
     "text": [
      "<class 'pandas.core.frame.DataFrame'>\n",
      "RangeIndex: 1667 entries, 0 to 1666\n",
      "Data columns (total 3 columns):\n",
      " #   Column  Non-Null Count  Dtype \n",
      "---  ------  --------------  ----- \n",
      " 0   id      1667 non-null   object\n",
      " 1   name    1667 non-null   object\n",
      " 2   genres  1590 non-null   object\n",
      "dtypes: object(3)\n",
      "memory usage: 39.2+ KB\n"
     ]
    }
   ],
   "source": [
    "artists.info()"
   ]
  },
  {
   "cell_type": "code",
   "execution_count": 7,
   "metadata": {},
   "outputs": [
    {
     "name": "stdout",
     "output_type": "stream",
     "text": [
      "Number of NaN in column genres: 77\n"
     ]
    }
   ],
   "source": [
    "get_nulls(artists)"
   ]
  },
  {
   "cell_type": "markdown",
   "metadata": {},
   "source": [
    "77 wierszy wykonawców nie posiada gatunku"
   ]
  },
  {
   "cell_type": "code",
   "execution_count": 8,
   "metadata": {},
   "outputs": [
    {
     "data": {
      "text/html": [
       "<div>\n",
       "<style scoped>\n",
       "    .dataframe tbody tr th:only-of-type {\n",
       "        vertical-align: middle;\n",
       "    }\n",
       "\n",
       "    .dataframe tbody tr th {\n",
       "        vertical-align: top;\n",
       "    }\n",
       "\n",
       "    .dataframe thead th {\n",
       "        text-align: right;\n",
       "    }\n",
       "</style>\n",
       "<table border=\"1\" class=\"dataframe\">\n",
       "  <thead>\n",
       "    <tr style=\"text-align: right;\">\n",
       "      <th></th>\n",
       "      <th>id</th>\n",
       "      <th>name</th>\n",
       "      <th>genres</th>\n",
       "    </tr>\n",
       "  </thead>\n",
       "  <tbody>\n",
       "    <tr>\n",
       "      <th>count</th>\n",
       "      <td>1667</td>\n",
       "      <td>1667</td>\n",
       "      <td>1590</td>\n",
       "    </tr>\n",
       "    <tr>\n",
       "      <th>unique</th>\n",
       "      <td>1577</td>\n",
       "      <td>1667</td>\n",
       "      <td>1296</td>\n",
       "    </tr>\n",
       "    <tr>\n",
       "      <th>top</th>\n",
       "      <td>-1</td>\n",
       "      <td>Lil Nas X</td>\n",
       "      <td>[latin, latin hip hop, reggaeton, reggaeton fl...</td>\n",
       "    </tr>\n",
       "    <tr>\n",
       "      <th>freq</th>\n",
       "      <td>91</td>\n",
       "      <td>1</td>\n",
       "      <td>15</td>\n",
       "    </tr>\n",
       "  </tbody>\n",
       "</table>\n",
       "</div>"
      ],
      "text/plain": [
       "          id       name                                             genres\n",
       "count   1667       1667                                               1590\n",
       "unique  1577       1667                                               1296\n",
       "top       -1  Lil Nas X  [latin, latin hip hop, reggaeton, reggaeton fl...\n",
       "freq      91          1                                                 15"
      ]
     },
     "execution_count": 8,
     "metadata": {},
     "output_type": "execute_result"
    }
   ],
   "source": [
    "artists.describe()"
   ]
  },
  {
   "cell_type": "code",
   "execution_count": 9,
   "metadata": {},
   "outputs": [
    {
     "data": {
      "text/plain": [
       "-1    91\n",
       "Name: id, dtype: int64"
      ]
     },
     "execution_count": 9,
     "metadata": {},
     "output_type": "execute_result"
    }
   ],
   "source": [
    "artists[\"id\"].value_counts().loc[lambda x: x > 1]"
   ]
  },
  {
   "cell_type": "markdown",
   "metadata": {},
   "source": [
    "91 wartości w id przyjmują tą samą wartość -1 co nie pozwala na jednoznaczne przypisanie później wykonawcy do utworu"
   ]
  },
  {
   "cell_type": "markdown",
   "metadata": {},
   "source": [
    "# Utwory\n",
    "Czy utwory nie powinny posiadać gatunku"
   ]
  },
  {
   "cell_type": "code",
   "execution_count": 10,
   "metadata": {},
   "outputs": [
    {
     "data": {
      "text/html": [
       "<div>\n",
       "<style scoped>\n",
       "    .dataframe tbody tr th:only-of-type {\n",
       "        vertical-align: middle;\n",
       "    }\n",
       "\n",
       "    .dataframe tbody tr th {\n",
       "        vertical-align: top;\n",
       "    }\n",
       "\n",
       "    .dataframe thead th {\n",
       "        text-align: right;\n",
       "    }\n",
       "</style>\n",
       "<table border=\"1\" class=\"dataframe\">\n",
       "  <thead>\n",
       "    <tr style=\"text-align: right;\">\n",
       "      <th></th>\n",
       "      <th>id</th>\n",
       "      <th>name</th>\n",
       "      <th>popularity</th>\n",
       "      <th>duration_ms</th>\n",
       "      <th>explicit</th>\n",
       "      <th>id_artist</th>\n",
       "      <th>release_date</th>\n",
       "      <th>danceability</th>\n",
       "      <th>energy</th>\n",
       "      <th>key</th>\n",
       "      <th>loudness</th>\n",
       "      <th>speechiness</th>\n",
       "      <th>acousticness</th>\n",
       "      <th>instrumentalness</th>\n",
       "      <th>liveness</th>\n",
       "      <th>valence</th>\n",
       "      <th>tempo</th>\n",
       "    </tr>\n",
       "  </thead>\n",
       "  <tbody>\n",
       "    <tr>\n",
       "      <th>0</th>\n",
       "      <td>0RNxWy0PC3AyH4ThH3aGK6</td>\n",
       "      <td>Mack the Knife</td>\n",
       "      <td>55.0</td>\n",
       "      <td>201467</td>\n",
       "      <td>0</td>\n",
       "      <td>19eLuQmk9aCobbVDHc6eek</td>\n",
       "      <td>1929</td>\n",
       "      <td>0.673</td>\n",
       "      <td>0.3770</td>\n",
       "      <td>0</td>\n",
       "      <td>-14.141</td>\n",
       "      <td>0.0697</td>\n",
       "      <td>0.586</td>\n",
       "      <td>0.000000</td>\n",
       "      <td>0.332</td>\n",
       "      <td>0.713</td>\n",
       "      <td>88.973</td>\n",
       "    </tr>\n",
       "    <tr>\n",
       "      <th>1</th>\n",
       "      <td>2W889aLIKxULEefrleFBFI</td>\n",
       "      <td>Someone to Watch Over Me</td>\n",
       "      <td>54.0</td>\n",
       "      <td>198000</td>\n",
       "      <td>0</td>\n",
       "      <td>1Mxqyy3pSjf8kZZL4QVxS0</td>\n",
       "      <td>1943</td>\n",
       "      <td>0.204</td>\n",
       "      <td>0.1510</td>\n",
       "      <td>2</td>\n",
       "      <td>-17.842</td>\n",
       "      <td>0.0418</td>\n",
       "      <td>0.947</td>\n",
       "      <td>0.000009</td>\n",
       "      <td>0.321</td>\n",
       "      <td>0.134</td>\n",
       "      <td>91.783</td>\n",
       "    </tr>\n",
       "    <tr>\n",
       "      <th>2</th>\n",
       "      <td>4Pnzw1nLOpDNV6MKI5ueIR</td>\n",
       "      <td>Nancy (With the Laughing Face) - 78rpm Version</td>\n",
       "      <td>NaN</td>\n",
       "      <td>199000</td>\n",
       "      <td>0</td>\n",
       "      <td>1Mxqyy3pSjf8kZZL4QVxS0</td>\n",
       "      <td>1944</td>\n",
       "      <td>0.295</td>\n",
       "      <td>0.0826</td>\n",
       "      <td>1</td>\n",
       "      <td>-19.569</td>\n",
       "      <td>0.0367</td>\n",
       "      <td>0.984</td>\n",
       "      <td>0.000358</td>\n",
       "      <td>0.156</td>\n",
       "      <td>0.169</td>\n",
       "      <td>128.600</td>\n",
       "    </tr>\n",
       "    <tr>\n",
       "      <th>3</th>\n",
       "      <td>7GLmfKOe5BfOXk7334DoKt</td>\n",
       "      <td>Saturday Night (Is The Loneliest Night In The ...</td>\n",
       "      <td>54.0</td>\n",
       "      <td>163000</td>\n",
       "      <td>0</td>\n",
       "      <td>1Mxqyy3pSjf8kZZL4QVxS0</td>\n",
       "      <td>1944</td>\n",
       "      <td>0.561</td>\n",
       "      <td>0.3350</td>\n",
       "      <td>9</td>\n",
       "      <td>-11.093</td>\n",
       "      <td>0.0499</td>\n",
       "      <td>0.840</td>\n",
       "      <td>0.000002</td>\n",
       "      <td>0.788</td>\n",
       "      <td>0.590</td>\n",
       "      <td>126.974</td>\n",
       "    </tr>\n",
       "    <tr>\n",
       "      <th>4</th>\n",
       "      <td>6kD1SNGPkfX9LwaGd1FG92</td>\n",
       "      <td>None</td>\n",
       "      <td>53.0</td>\n",
       "      <td>186173</td>\n",
       "      <td>0</td>\n",
       "      <td>1Mxqyy3pSjf8kZZL4QVxS0</td>\n",
       "      <td>1944</td>\n",
       "      <td>0.197</td>\n",
       "      <td>0.0546</td>\n",
       "      <td>1</td>\n",
       "      <td>-22.411</td>\n",
       "      <td>0.0346</td>\n",
       "      <td>0.950</td>\n",
       "      <td>0.276000</td>\n",
       "      <td>0.152</td>\n",
       "      <td>0.100</td>\n",
       "      <td>90.150</td>\n",
       "    </tr>\n",
       "  </tbody>\n",
       "</table>\n",
       "</div>"
      ],
      "text/plain": [
       "                       id                                               name  \\\n",
       "0  0RNxWy0PC3AyH4ThH3aGK6                                     Mack the Knife   \n",
       "1  2W889aLIKxULEefrleFBFI                           Someone to Watch Over Me   \n",
       "2  4Pnzw1nLOpDNV6MKI5ueIR     Nancy (With the Laughing Face) - 78rpm Version   \n",
       "3  7GLmfKOe5BfOXk7334DoKt  Saturday Night (Is The Loneliest Night In The ...   \n",
       "4  6kD1SNGPkfX9LwaGd1FG92                                               None   \n",
       "\n",
       "   popularity  duration_ms  explicit               id_artist release_date  \\\n",
       "0        55.0       201467         0  19eLuQmk9aCobbVDHc6eek         1929   \n",
       "1        54.0       198000         0  1Mxqyy3pSjf8kZZL4QVxS0         1943   \n",
       "2         NaN       199000         0  1Mxqyy3pSjf8kZZL4QVxS0         1944   \n",
       "3        54.0       163000         0  1Mxqyy3pSjf8kZZL4QVxS0         1944   \n",
       "4        53.0       186173         0  1Mxqyy3pSjf8kZZL4QVxS0         1944   \n",
       "\n",
       "   danceability  energy  key  loudness  speechiness  acousticness  \\\n",
       "0         0.673  0.3770    0   -14.141       0.0697         0.586   \n",
       "1         0.204  0.1510    2   -17.842       0.0418         0.947   \n",
       "2         0.295  0.0826    1   -19.569       0.0367         0.984   \n",
       "3         0.561  0.3350    9   -11.093       0.0499         0.840   \n",
       "4         0.197  0.0546    1   -22.411       0.0346         0.950   \n",
       "\n",
       "   instrumentalness  liveness  valence    tempo  \n",
       "0          0.000000     0.332    0.713   88.973  \n",
       "1          0.000009     0.321    0.134   91.783  \n",
       "2          0.000358     0.156    0.169  128.600  \n",
       "3          0.000002     0.788    0.590  126.974  \n",
       "4          0.276000     0.152    0.100   90.150  "
      ]
     },
     "execution_count": 10,
     "metadata": {},
     "output_type": "execute_result"
    }
   ],
   "source": [
    "tracks.head()\n",
    "# tracks.sort_values(by=['popularity'], ascending=False)\n",
    "\n",
    "# tracks.info()"
   ]
  },
  {
   "cell_type": "code",
   "execution_count": 11,
   "metadata": {},
   "outputs": [
    {
     "name": "stdout",
     "output_type": "stream",
     "text": [
      "<class 'pandas.core.frame.DataFrame'>\n",
      "RangeIndex: 22412 entries, 0 to 22411\n",
      "Data columns (total 17 columns):\n",
      " #   Column            Non-Null Count  Dtype  \n",
      "---  ------            --------------  -----  \n",
      " 0   id                21274 non-null  object \n",
      " 1   name              21294 non-null  object \n",
      " 2   popularity        21358 non-null  float64\n",
      " 3   duration_ms       22412 non-null  int64  \n",
      " 4   explicit          22412 non-null  int64  \n",
      " 5   id_artist         21278 non-null  object \n",
      " 6   release_date      22412 non-null  object \n",
      " 7   danceability      22412 non-null  float64\n",
      " 8   energy            22412 non-null  float64\n",
      " 9   key               22412 non-null  int64  \n",
      " 10  loudness          22412 non-null  float64\n",
      " 11  speechiness       22412 non-null  float64\n",
      " 12  acousticness      22412 non-null  float64\n",
      " 13  instrumentalness  22412 non-null  float64\n",
      " 14  liveness          22412 non-null  float64\n",
      " 15  valence           22412 non-null  float64\n",
      " 16  tempo             22412 non-null  float64\n",
      "dtypes: float64(10), int64(3), object(4)\n",
      "memory usage: 2.9+ MB\n"
     ]
    }
   ],
   "source": [
    "tracks.info()"
   ]
  },
  {
   "cell_type": "code",
   "execution_count": 12,
   "metadata": {},
   "outputs": [
    {
     "name": "stdout",
     "output_type": "stream",
     "text": [
      "Number of NaN in column id: 1138\n",
      "Number of NaN in column name: 1118\n",
      "Number of NaN in column popularity: 1054\n",
      "Number of NaN in column id_artist: 1134\n"
     ]
    }
   ],
   "source": [
    "get_nulls(tracks)"
   ]
  },
  {
   "cell_type": "code",
   "execution_count": 13,
   "metadata": {},
   "outputs": [
    {
     "data": {
      "text/html": [
       "<div>\n",
       "<style scoped>\n",
       "    .dataframe tbody tr th:only-of-type {\n",
       "        vertical-align: middle;\n",
       "    }\n",
       "\n",
       "    .dataframe tbody tr th {\n",
       "        vertical-align: top;\n",
       "    }\n",
       "\n",
       "    .dataframe thead th {\n",
       "        text-align: right;\n",
       "    }\n",
       "</style>\n",
       "<table border=\"1\" class=\"dataframe\">\n",
       "  <thead>\n",
       "    <tr style=\"text-align: right;\">\n",
       "      <th></th>\n",
       "      <th>popularity</th>\n",
       "      <th>duration_ms</th>\n",
       "      <th>explicit</th>\n",
       "      <th>danceability</th>\n",
       "      <th>energy</th>\n",
       "      <th>key</th>\n",
       "      <th>loudness</th>\n",
       "      <th>speechiness</th>\n",
       "      <th>acousticness</th>\n",
       "      <th>instrumentalness</th>\n",
       "      <th>liveness</th>\n",
       "      <th>valence</th>\n",
       "      <th>tempo</th>\n",
       "    </tr>\n",
       "  </thead>\n",
       "  <tbody>\n",
       "    <tr>\n",
       "      <th>count</th>\n",
       "      <td>21358.000000</td>\n",
       "      <td>2.241200e+04</td>\n",
       "      <td>22412.000000</td>\n",
       "      <td>22412.000000</td>\n",
       "      <td>22412.000000</td>\n",
       "      <td>22412.000000</td>\n",
       "      <td>22412.000000</td>\n",
       "      <td>22412.000000</td>\n",
       "      <td>22412.000000</td>\n",
       "      <td>22412.000000</td>\n",
       "      <td>22412.000000</td>\n",
       "      <td>22412.000000</td>\n",
       "      <td>22412.000000</td>\n",
       "    </tr>\n",
       "    <tr>\n",
       "      <th>mean</th>\n",
       "      <td>61.407014</td>\n",
       "      <td>2.301383e+05</td>\n",
       "      <td>0.166607</td>\n",
       "      <td>0.599096</td>\n",
       "      <td>0.648017</td>\n",
       "      <td>5.278824</td>\n",
       "      <td>-7.196227</td>\n",
       "      <td>0.082914</td>\n",
       "      <td>0.267758</td>\n",
       "      <td>0.040220</td>\n",
       "      <td>0.193141</td>\n",
       "      <td>0.518000</td>\n",
       "      <td>121.911945</td>\n",
       "    </tr>\n",
       "    <tr>\n",
       "      <th>std</th>\n",
       "      <td>8.063279</td>\n",
       "      <td>7.209562e+04</td>\n",
       "      <td>0.372633</td>\n",
       "      <td>0.158259</td>\n",
       "      <td>0.209577</td>\n",
       "      <td>3.558813</td>\n",
       "      <td>3.738098</td>\n",
       "      <td>0.089317</td>\n",
       "      <td>0.276111</td>\n",
       "      <td>0.152828</td>\n",
       "      <td>0.167943</td>\n",
       "      <td>0.244477</td>\n",
       "      <td>29.615254</td>\n",
       "    </tr>\n",
       "    <tr>\n",
       "      <th>min</th>\n",
       "      <td>51.000000</td>\n",
       "      <td>3.062200e+04</td>\n",
       "      <td>0.000000</td>\n",
       "      <td>0.000000</td>\n",
       "      <td>0.000103</td>\n",
       "      <td>0.000000</td>\n",
       "      <td>-44.410000</td>\n",
       "      <td>0.000000</td>\n",
       "      <td>0.000001</td>\n",
       "      <td>0.000000</td>\n",
       "      <td>0.012000</td>\n",
       "      <td>0.000000</td>\n",
       "      <td>0.000000</td>\n",
       "    </tr>\n",
       "    <tr>\n",
       "      <th>25%</th>\n",
       "      <td>55.000000</td>\n",
       "      <td>1.914930e+05</td>\n",
       "      <td>0.000000</td>\n",
       "      <td>0.495000</td>\n",
       "      <td>0.508000</td>\n",
       "      <td>2.000000</td>\n",
       "      <td>-8.614500</td>\n",
       "      <td>0.033900</td>\n",
       "      <td>0.029800</td>\n",
       "      <td>0.000000</td>\n",
       "      <td>0.094400</td>\n",
       "      <td>0.325000</td>\n",
       "      <td>97.988000</td>\n",
       "    </tr>\n",
       "    <tr>\n",
       "      <th>50%</th>\n",
       "      <td>60.000000</td>\n",
       "      <td>2.206670e+05</td>\n",
       "      <td>0.000000</td>\n",
       "      <td>0.608000</td>\n",
       "      <td>0.672000</td>\n",
       "      <td>5.000000</td>\n",
       "      <td>-6.393000</td>\n",
       "      <td>0.046300</td>\n",
       "      <td>0.165000</td>\n",
       "      <td>0.000003</td>\n",
       "      <td>0.125000</td>\n",
       "      <td>0.512000</td>\n",
       "      <td>120.041000</td>\n",
       "    </tr>\n",
       "    <tr>\n",
       "      <th>75%</th>\n",
       "      <td>67.000000</td>\n",
       "      <td>2.562400e+05</td>\n",
       "      <td>0.000000</td>\n",
       "      <td>0.715000</td>\n",
       "      <td>0.816000</td>\n",
       "      <td>8.000000</td>\n",
       "      <td>-4.850000</td>\n",
       "      <td>0.086000</td>\n",
       "      <td>0.455000</td>\n",
       "      <td>0.000523</td>\n",
       "      <td>0.240000</td>\n",
       "      <td>0.713000</td>\n",
       "      <td>140.078000</td>\n",
       "    </tr>\n",
       "    <tr>\n",
       "      <th>max</th>\n",
       "      <td>99.000000</td>\n",
       "      <td>4.120258e+06</td>\n",
       "      <td>1.000000</td>\n",
       "      <td>0.980000</td>\n",
       "      <td>0.999000</td>\n",
       "      <td>11.000000</td>\n",
       "      <td>0.642000</td>\n",
       "      <td>0.944000</td>\n",
       "      <td>0.996000</td>\n",
       "      <td>0.998000</td>\n",
       "      <td>0.997000</td>\n",
       "      <td>0.991000</td>\n",
       "      <td>220.099000</td>\n",
       "    </tr>\n",
       "  </tbody>\n",
       "</table>\n",
       "</div>"
      ],
      "text/plain": [
       "         popularity   duration_ms      explicit  danceability        energy  \\\n",
       "count  21358.000000  2.241200e+04  22412.000000  22412.000000  22412.000000   \n",
       "mean      61.407014  2.301383e+05      0.166607      0.599096      0.648017   \n",
       "std        8.063279  7.209562e+04      0.372633      0.158259      0.209577   \n",
       "min       51.000000  3.062200e+04      0.000000      0.000000      0.000103   \n",
       "25%       55.000000  1.914930e+05      0.000000      0.495000      0.508000   \n",
       "50%       60.000000  2.206670e+05      0.000000      0.608000      0.672000   \n",
       "75%       67.000000  2.562400e+05      0.000000      0.715000      0.816000   \n",
       "max       99.000000  4.120258e+06      1.000000      0.980000      0.999000   \n",
       "\n",
       "                key      loudness   speechiness  acousticness  \\\n",
       "count  22412.000000  22412.000000  22412.000000  22412.000000   \n",
       "mean       5.278824     -7.196227      0.082914      0.267758   \n",
       "std        3.558813      3.738098      0.089317      0.276111   \n",
       "min        0.000000    -44.410000      0.000000      0.000001   \n",
       "25%        2.000000     -8.614500      0.033900      0.029800   \n",
       "50%        5.000000     -6.393000      0.046300      0.165000   \n",
       "75%        8.000000     -4.850000      0.086000      0.455000   \n",
       "max       11.000000      0.642000      0.944000      0.996000   \n",
       "\n",
       "       instrumentalness      liveness       valence         tempo  \n",
       "count      22412.000000  22412.000000  22412.000000  22412.000000  \n",
       "mean           0.040220      0.193141      0.518000    121.911945  \n",
       "std            0.152828      0.167943      0.244477     29.615254  \n",
       "min            0.000000      0.012000      0.000000      0.000000  \n",
       "25%            0.000000      0.094400      0.325000     97.988000  \n",
       "50%            0.000003      0.125000      0.512000    120.041000  \n",
       "75%            0.000523      0.240000      0.713000    140.078000  \n",
       "max            0.998000      0.997000      0.991000    220.099000  "
      ]
     },
     "execution_count": 13,
     "metadata": {},
     "output_type": "execute_result"
    }
   ],
   "source": [
    "tracks.describe()"
   ]
  },
  {
   "cell_type": "code",
   "execution_count": 43,
   "metadata": {},
   "outputs": [
    {
     "data": {
      "text/html": [
       "<div>\n",
       "<style scoped>\n",
       "    .dataframe tbody tr th:only-of-type {\n",
       "        vertical-align: middle;\n",
       "    }\n",
       "\n",
       "    .dataframe tbody tr th {\n",
       "        vertical-align: top;\n",
       "    }\n",
       "\n",
       "    .dataframe thead th {\n",
       "        text-align: right;\n",
       "    }\n",
       "</style>\n",
       "<table border=\"1\" class=\"dataframe\">\n",
       "  <thead>\n",
       "    <tr style=\"text-align: right;\">\n",
       "      <th></th>\n",
       "      <th>id</th>\n",
       "      <th>name</th>\n",
       "      <th>popularity</th>\n",
       "      <th>duration_ms</th>\n",
       "      <th>explicit</th>\n",
       "      <th>id_artist</th>\n",
       "      <th>release_date</th>\n",
       "      <th>danceability</th>\n",
       "      <th>energy</th>\n",
       "      <th>key</th>\n",
       "      <th>loudness</th>\n",
       "      <th>speechiness</th>\n",
       "      <th>acousticness</th>\n",
       "      <th>instrumentalness</th>\n",
       "      <th>liveness</th>\n",
       "      <th>valence</th>\n",
       "      <th>tempo</th>\n",
       "    </tr>\n",
       "  </thead>\n",
       "  <tbody>\n",
       "    <tr>\n",
       "      <th>13345</th>\n",
       "      <td>1saXdvEAafdRzUphXBzSHg</td>\n",
       "      <td>Ocean Waves for Sleep</td>\n",
       "      <td>56.0</td>\n",
       "      <td>4120258</td>\n",
       "      <td>0</td>\n",
       "      <td>2CgVSpL4tfbUuHmTGS7wF3</td>\n",
       "      <td>2010-07-16</td>\n",
       "      <td>0.0797</td>\n",
       "      <td>0.995</td>\n",
       "      <td>1</td>\n",
       "      <td>-17.379</td>\n",
       "      <td>0.0612</td>\n",
       "      <td>0.9320</td>\n",
       "      <td>0.5620</td>\n",
       "      <td>0.3100</td>\n",
       "      <td>0.00001</td>\n",
       "      <td>84.788</td>\n",
       "    </tr>\n",
       "    <tr>\n",
       "      <th>620</th>\n",
       "      <td>None</td>\n",
       "      <td>Atom Heart Mother</td>\n",
       "      <td>51.0</td>\n",
       "      <td>1421455</td>\n",
       "      <td>0</td>\n",
       "      <td>0k17h0D3J5VfsdmQ1iZtE9</td>\n",
       "      <td>1970-10-05</td>\n",
       "      <td>0.2660</td>\n",
       "      <td>0.216</td>\n",
       "      <td>9</td>\n",
       "      <td>-16.001</td>\n",
       "      <td>0.0333</td>\n",
       "      <td>0.7850</td>\n",
       "      <td>0.8850</td>\n",
       "      <td>0.0807</td>\n",
       "      <td>0.09190</td>\n",
       "      <td>137.558</td>\n",
       "    </tr>\n",
       "    <tr>\n",
       "      <th>675</th>\n",
       "      <td>7kriFJLY2KOhw5en9iI2jb</td>\n",
       "      <td>Echoes</td>\n",
       "      <td>58.0</td>\n",
       "      <td>1412451</td>\n",
       "      <td>0</td>\n",
       "      <td>0k17h0D3J5VfsdmQ1iZtE9</td>\n",
       "      <td>1971-11-11</td>\n",
       "      <td>0.2850</td>\n",
       "      <td>0.322</td>\n",
       "      <td>6</td>\n",
       "      <td>-16.580</td>\n",
       "      <td>0.0440</td>\n",
       "      <td>0.3660</td>\n",
       "      <td>0.6510</td>\n",
       "      <td>0.1070</td>\n",
       "      <td>0.14200</td>\n",
       "      <td>134.042</td>\n",
       "    </tr>\n",
       "    <tr>\n",
       "      <th>12802</th>\n",
       "      <td>None</td>\n",
       "      <td>Echoes - 2011 Remastered Version</td>\n",
       "      <td>55.0</td>\n",
       "      <td>1412451</td>\n",
       "      <td>0</td>\n",
       "      <td>0k17h0D3J5VfsdmQ1iZtE9</td>\n",
       "      <td>1971-11-05</td>\n",
       "      <td>0.2850</td>\n",
       "      <td>0.322</td>\n",
       "      <td>6</td>\n",
       "      <td>-16.580</td>\n",
       "      <td>0.0440</td>\n",
       "      <td>0.3660</td>\n",
       "      <td>0.6510</td>\n",
       "      <td>0.1070</td>\n",
       "      <td>0.14200</td>\n",
       "      <td>134.042</td>\n",
       "    </tr>\n",
       "    <tr>\n",
       "      <th>1162</th>\n",
       "      <td>5H8xFHau0x3PI1CssO6EaX</td>\n",
       "      <td>2112: Overture / The Temples Of Syrinx / Disco...</td>\n",
       "      <td>53.0</td>\n",
       "      <td>1233667</td>\n",
       "      <td>0</td>\n",
       "      <td>2Hkut4rAAyrQxRdof7FVJq</td>\n",
       "      <td>1976-04-01</td>\n",
       "      <td>0.3440</td>\n",
       "      <td>0.790</td>\n",
       "      <td>2</td>\n",
       "      <td>-7.456</td>\n",
       "      <td>0.0983</td>\n",
       "      <td>0.0823</td>\n",
       "      <td>0.0017</td>\n",
       "      <td>0.1870</td>\n",
       "      <td>0.20200</td>\n",
       "      <td>133.186</td>\n",
       "    </tr>\n",
       "  </tbody>\n",
       "</table>\n",
       "</div>"
      ],
      "text/plain": [
       "                           id  \\\n",
       "13345  1saXdvEAafdRzUphXBzSHg   \n",
       "620                      None   \n",
       "675    7kriFJLY2KOhw5en9iI2jb   \n",
       "12802                    None   \n",
       "1162   5H8xFHau0x3PI1CssO6EaX   \n",
       "\n",
       "                                                    name  popularity  \\\n",
       "13345                              Ocean Waves for Sleep        56.0   \n",
       "620                                    Atom Heart Mother        51.0   \n",
       "675                                               Echoes        58.0   \n",
       "12802                   Echoes - 2011 Remastered Version        55.0   \n",
       "1162   2112: Overture / The Temples Of Syrinx / Disco...        53.0   \n",
       "\n",
       "       duration_ms  explicit               id_artist release_date  \\\n",
       "13345      4120258         0  2CgVSpL4tfbUuHmTGS7wF3   2010-07-16   \n",
       "620        1421455         0  0k17h0D3J5VfsdmQ1iZtE9   1970-10-05   \n",
       "675        1412451         0  0k17h0D3J5VfsdmQ1iZtE9   1971-11-11   \n",
       "12802      1412451         0  0k17h0D3J5VfsdmQ1iZtE9   1971-11-05   \n",
       "1162       1233667         0  2Hkut4rAAyrQxRdof7FVJq   1976-04-01   \n",
       "\n",
       "       danceability  energy  key  loudness  speechiness  acousticness  \\\n",
       "13345        0.0797   0.995    1   -17.379       0.0612        0.9320   \n",
       "620          0.2660   0.216    9   -16.001       0.0333        0.7850   \n",
       "675          0.2850   0.322    6   -16.580       0.0440        0.3660   \n",
       "12802        0.2850   0.322    6   -16.580       0.0440        0.3660   \n",
       "1162         0.3440   0.790    2    -7.456       0.0983        0.0823   \n",
       "\n",
       "       instrumentalness  liveness  valence    tempo  \n",
       "13345            0.5620    0.3100  0.00001   84.788  \n",
       "620              0.8850    0.0807  0.09190  137.558  \n",
       "675              0.6510    0.1070  0.14200  134.042  \n",
       "12802            0.6510    0.1070  0.14200  134.042  \n",
       "1162             0.0017    0.1870  0.20200  133.186  "
      ]
     },
     "execution_count": 43,
     "metadata": {},
     "output_type": "execute_result"
    }
   ],
   "source": [
    "tracks.sort_values(\"duration_ms\", ascending=False).head()"
   ]
  },
  {
   "cell_type": "markdown",
   "metadata": {},
   "source": [
    "Czas mocno odstaje od reszty id 1saXdvEAafdRzUphXBzSHg"
   ]
  },
  {
   "cell_type": "code",
   "execution_count": 50,
   "metadata": {},
   "outputs": [
    {
     "data": {
      "text/plain": [
       "Series([], Name: id, dtype: int64)"
      ]
     },
     "execution_count": 50,
     "metadata": {},
     "output_type": "execute_result"
    }
   ],
   "source": [
    "tracks[\"id\"].value_counts().loc[lambda x: x > 1]"
   ]
  },
  {
   "cell_type": "code",
   "execution_count": 53,
   "metadata": {},
   "outputs": [
    {
     "data": {
      "text/plain": [
       "0.0305    93\n",
       "0.0302    87\n",
       "0.0303    83\n",
       "0.0311    83\n",
       "0.0335    83\n",
       "          ..\n",
       "0.5320     1\n",
       "0.4990     1\n",
       "0.6680     1\n",
       "0.5310     1\n",
       "0.6150     1\n",
       "Name: speechiness, Length: 1235, dtype: int64"
      ]
     },
     "execution_count": 53,
     "metadata": {},
     "output_type": "execute_result"
    }
   ],
   "source": [
    "tracks[\"speechiness\"].value_counts()"
   ]
  },
  {
   "cell_type": "markdown",
   "metadata": {},
   "source": [
    "Żadne id nie przyjmuje tej samej wartości, poprawnie"
   ]
  },
  {
   "cell_type": "code",
   "execution_count": 15,
   "metadata": {},
   "outputs": [
    {
     "data": {
      "text/plain": [
       "array([[<AxesSubplot:title={'center':'popularity'}>,\n",
       "        <AxesSubplot:title={'center':'duration_ms'}>,\n",
       "        <AxesSubplot:title={'center':'explicit'}>,\n",
       "        <AxesSubplot:title={'center':'danceability'}>],\n",
       "       [<AxesSubplot:title={'center':'energy'}>,\n",
       "        <AxesSubplot:title={'center':'key'}>,\n",
       "        <AxesSubplot:title={'center':'loudness'}>,\n",
       "        <AxesSubplot:title={'center':'speechiness'}>],\n",
       "       [<AxesSubplot:title={'center':'acousticness'}>,\n",
       "        <AxesSubplot:title={'center':'instrumentalness'}>,\n",
       "        <AxesSubplot:title={'center':'liveness'}>,\n",
       "        <AxesSubplot:title={'center':'valence'}>],\n",
       "       [<AxesSubplot:title={'center':'tempo'}>, <AxesSubplot:>,\n",
       "        <AxesSubplot:>, <AxesSubplot:>]], dtype=object)"
      ]
     },
     "execution_count": 15,
     "metadata": {},
     "output_type": "execute_result"
    },
    {
     "data": {
      "image/png": "[encoded data removed]",
      "text/plain": [
       "<Figure size 640x480 with 16 Axes>"
      ]
     },
     "metadata": {},
     "output_type": "display_data"
    }
   ],
   "source": [
    "tracks.hist()"
   ]
  },
  {
   "cell_type": "code",
   "execution_count": 57,
   "metadata": {},
   "outputs": [
    {
     "data": {
      "image/png": "[encoded data removed]",
      "text/plain": [
       "<Figure size 640x480 with 1 Axes>"
      ]
     },
     "metadata": {},
     "output_type": "display_data"
    }
   ],
   "source": [
    "import statsmodels.api as sm\n",
    "import pylab as py\n",
    "sm.qqplot(tracks[\"popularity\"])\n",
    "\n",
    "\n",
    "for column in tracks.select_dtypes(include=['float64', 'int64']).columns.format():\n",
    "    sm.qqplot(tracks[column])\n",
    "    py.savefig(column)"
   ]
  },
  {
   "cell_type": "markdown",
   "metadata": {},
   "source": [
    "# Użytkownicy"
   ]
  },
  {
   "cell_type": "code",
   "execution_count": 16,
   "metadata": {},
   "outputs": [
    {
     "data": {
      "text/html": [
       "<div>\n",
       "<style scoped>\n",
       "    .dataframe tbody tr th:only-of-type {\n",
       "        vertical-align: middle;\n",
       "    }\n",
       "\n",
       "    .dataframe tbody tr th {\n",
       "        vertical-align: top;\n",
       "    }\n",
       "\n",
       "    .dataframe thead th {\n",
       "        text-align: right;\n",
       "    }\n",
       "</style>\n",
       "<table border=\"1\" class=\"dataframe\">\n",
       "  <thead>\n",
       "    <tr style=\"text-align: right;\">\n",
       "      <th></th>\n",
       "      <th>user_id</th>\n",
       "      <th>name</th>\n",
       "      <th>city</th>\n",
       "      <th>street</th>\n",
       "      <th>favourite_genres</th>\n",
       "      <th>premium_user</th>\n",
       "      <th>id</th>\n",
       "    </tr>\n",
       "  </thead>\n",
       "  <tbody>\n",
       "    <tr>\n",
       "      <th>0</th>\n",
       "      <td>101</td>\n",
       "      <td>Dominik Paździora</td>\n",
       "      <td>Wrocław</td>\n",
       "      <td>aleja Jabłoniowa 55/02</td>\n",
       "      <td>[dance pop, latin, hard rock]</td>\n",
       "      <td>False</td>\n",
       "      <td>NaN</td>\n",
       "    </tr>\n",
       "    <tr>\n",
       "      <th>1</th>\n",
       "      <td>102</td>\n",
       "      <td>Justyna Mszyca</td>\n",
       "      <td>Poznań</td>\n",
       "      <td>ul. Krótka 710</td>\n",
       "      <td>[reggaeton, latin arena pop, modern rock]</td>\n",
       "      <td>False</td>\n",
       "      <td>NaN</td>\n",
       "    </tr>\n",
       "    <tr>\n",
       "      <th>2</th>\n",
       "      <td>103</td>\n",
       "      <td>Kornelia Witka</td>\n",
       "      <td>Gdynia</td>\n",
       "      <td>al. Kościuszki 587</td>\n",
       "      <td>[rap, art rock, rock]</td>\n",
       "      <td>False</td>\n",
       "      <td>NaN</td>\n",
       "    </tr>\n",
       "    <tr>\n",
       "      <th>3</th>\n",
       "      <td>104</td>\n",
       "      <td>Jędrzej Kotala</td>\n",
       "      <td>Gdynia</td>\n",
       "      <td>pl. Kossaka 97/86</td>\n",
       "      <td>[mexican pop, contemporary country, psychedeli...</td>\n",
       "      <td>False</td>\n",
       "      <td>NaN</td>\n",
       "    </tr>\n",
       "    <tr>\n",
       "      <th>4</th>\n",
       "      <td>105</td>\n",
       "      <td>Karol Kleban</td>\n",
       "      <td>Kraków</td>\n",
       "      <td>ul. Tulipanowa 861</td>\n",
       "      <td>[rock, adult standards, permanent wave]</td>\n",
       "      <td>False</td>\n",
       "      <td>NaN</td>\n",
       "    </tr>\n",
       "  </tbody>\n",
       "</table>\n",
       "</div>"
      ],
      "text/plain": [
       "   user_id               name     city                  street  \\\n",
       "0      101  Dominik Paździora  Wrocław  aleja Jabłoniowa 55/02   \n",
       "1      102     Justyna Mszyca   Poznań          ul. Krótka 710   \n",
       "2      103     Kornelia Witka   Gdynia      al. Kościuszki 587   \n",
       "3      104     Jędrzej Kotala   Gdynia       pl. Kossaka 97/86   \n",
       "4      105       Karol Kleban   Kraków      ul. Tulipanowa 861   \n",
       "\n",
       "                                    favourite_genres premium_user  id  \n",
       "0                      [dance pop, latin, hard rock]        False NaN  \n",
       "1          [reggaeton, latin arena pop, modern rock]        False NaN  \n",
       "2                              [rap, art rock, rock]        False NaN  \n",
       "3  [mexican pop, contemporary country, psychedeli...        False NaN  \n",
       "4            [rock, adult standards, permanent wave]        False NaN  "
      ]
     },
     "execution_count": 16,
     "metadata": {},
     "output_type": "execute_result"
    }
   ],
   "source": [
    "users.head()"
   ]
  },
  {
   "cell_type": "markdown",
   "metadata": {},
   "source": [
    "Chyba nam to nie potrzebne bo mamy dla wszystkich a nie dla danej grupy"
   ]
  },
  {
   "cell_type": "markdown",
   "metadata": {},
   "source": [
    "# Sesje"
   ]
  },
  {
   "cell_type": "code",
   "execution_count": 17,
   "metadata": {},
   "outputs": [
    {
     "data": {
      "text/html": [
       "<div>\n",
       "<style scoped>\n",
       "    .dataframe tbody tr th:only-of-type {\n",
       "        vertical-align: middle;\n",
       "    }\n",
       "\n",
       "    .dataframe tbody tr th {\n",
       "        vertical-align: top;\n",
       "    }\n",
       "\n",
       "    .dataframe thead th {\n",
       "        text-align: right;\n",
       "    }\n",
       "</style>\n",
       "<table border=\"1\" class=\"dataframe\">\n",
       "  <thead>\n",
       "    <tr style=\"text-align: right;\">\n",
       "      <th></th>\n",
       "      <th>session_id</th>\n",
       "      <th>timestamp</th>\n",
       "      <th>user_id</th>\n",
       "      <th>track_id</th>\n",
       "      <th>event_type</th>\n",
       "    </tr>\n",
       "  </thead>\n",
       "  <tbody>\n",
       "    <tr>\n",
       "      <th>0</th>\n",
       "      <td>124</td>\n",
       "      <td>2023-03-25T20:09:20.374331</td>\n",
       "      <td>123.0</td>\n",
       "      <td>None</td>\n",
       "      <td>play</td>\n",
       "    </tr>\n",
       "    <tr>\n",
       "      <th>1</th>\n",
       "      <td>125</td>\n",
       "      <td>2023-03-26T07:54:17.376121</td>\n",
       "      <td>144.0</td>\n",
       "      <td>0ijhkvBpA7OBlY4clWSUZw</td>\n",
       "      <td>play</td>\n",
       "    </tr>\n",
       "    <tr>\n",
       "      <th>2</th>\n",
       "      <td>126</td>\n",
       "      <td>2023-03-26T05:10:33.134128</td>\n",
       "      <td>144.0</td>\n",
       "      <td>7kcG2nk2Y9O1VEIyfjQO9p</td>\n",
       "      <td>play</td>\n",
       "    </tr>\n",
       "    <tr>\n",
       "      <th>3</th>\n",
       "      <td>126</td>\n",
       "      <td>2023-03-26T05:11:03.555128</td>\n",
       "      <td>144.0</td>\n",
       "      <td>None</td>\n",
       "      <td>like</td>\n",
       "    </tr>\n",
       "    <tr>\n",
       "      <th>4</th>\n",
       "      <td>126</td>\n",
       "      <td>2023-03-26T05:13:57.387128</td>\n",
       "      <td>144.0</td>\n",
       "      <td>1PtL0YQRtq3qxDGUSwZPJ5</td>\n",
       "      <td>play</td>\n",
       "    </tr>\n",
       "  </tbody>\n",
       "</table>\n",
       "</div>"
      ],
      "text/plain": [
       "   session_id                   timestamp  user_id                track_id  \\\n",
       "0         124  2023-03-25T20:09:20.374331    123.0                    None   \n",
       "1         125  2023-03-26T07:54:17.376121    144.0  0ijhkvBpA7OBlY4clWSUZw   \n",
       "2         126  2023-03-26T05:10:33.134128    144.0  7kcG2nk2Y9O1VEIyfjQO9p   \n",
       "3         126  2023-03-26T05:11:03.555128    144.0                    None   \n",
       "4         126  2023-03-26T05:13:57.387128    144.0  1PtL0YQRtq3qxDGUSwZPJ5   \n",
       "\n",
       "  event_type  \n",
       "0       play  \n",
       "1       play  \n",
       "2       play  \n",
       "3       like  \n",
       "4       play  "
      ]
     },
     "execution_count": 17,
     "metadata": {},
     "output_type": "execute_result"
    }
   ],
   "source": [
    "sessions.head()"
   ]
  },
  {
   "cell_type": "code",
   "execution_count": 18,
   "metadata": {},
   "outputs": [
    {
     "name": "stdout",
     "output_type": "stream",
     "text": [
      "<class 'pandas.core.frame.DataFrame'>\n",
      "RangeIndex: 161194 entries, 0 to 161193\n",
      "Data columns (total 5 columns):\n",
      " #   Column      Non-Null Count   Dtype  \n",
      "---  ------      --------------   -----  \n",
      " 0   session_id  161194 non-null  int64  \n",
      " 1   timestamp   161194 non-null  object \n",
      " 2   user_id     153173 non-null  float64\n",
      " 3   track_id    131272 non-null  object \n",
      " 4   event_type  153041 non-null  object \n",
      "dtypes: float64(1), int64(1), object(3)\n",
      "memory usage: 6.1+ MB\n"
     ]
    }
   ],
   "source": [
    "sessions.info()"
   ]
  },
  {
   "cell_type": "code",
   "execution_count": 19,
   "metadata": {},
   "outputs": [
    {
     "data": {
      "text/plain": [
       "play            83785\n",
       "skip            26356\n",
       "advertisment    21784\n",
       "like            21116\n",
       "Name: event_type, dtype: int64"
      ]
     },
     "execution_count": 19,
     "metadata": {},
     "output_type": "execute_result"
    }
   ],
   "source": [
    "sessions[\"event_type\"].value_counts()"
   ]
  },
  {
   "cell_type": "code",
   "execution_count": 20,
   "metadata": {},
   "outputs": [
    {
     "data": {
      "text/html": [
       "<div>\n",
       "<style scoped>\n",
       "    .dataframe tbody tr th:only-of-type {\n",
       "        vertical-align: middle;\n",
       "    }\n",
       "\n",
       "    .dataframe tbody tr th {\n",
       "        vertical-align: top;\n",
       "    }\n",
       "\n",
       "    .dataframe thead th {\n",
       "        text-align: right;\n",
       "    }\n",
       "</style>\n",
       "<table border=\"1\" class=\"dataframe\">\n",
       "  <thead>\n",
       "    <tr style=\"text-align: right;\">\n",
       "      <th></th>\n",
       "      <th>session_id</th>\n",
       "      <th>timestamp</th>\n",
       "      <th>user_id</th>\n",
       "      <th>track_id</th>\n",
       "      <th>event_type</th>\n",
       "    </tr>\n",
       "  </thead>\n",
       "  <tbody>\n",
       "    <tr>\n",
       "      <th>8</th>\n",
       "      <td>127</td>\n",
       "      <td>2023-03-25T20:37:26.696781</td>\n",
       "      <td>182.0</td>\n",
       "      <td>None</td>\n",
       "      <td>advertisment</td>\n",
       "    </tr>\n",
       "    <tr>\n",
       "      <th>23</th>\n",
       "      <td>128</td>\n",
       "      <td>2023-03-26T14:12:59.821436</td>\n",
       "      <td>182.0</td>\n",
       "      <td>None</td>\n",
       "      <td>advertisment</td>\n",
       "    </tr>\n",
       "    <tr>\n",
       "      <th>25</th>\n",
       "      <td>128</td>\n",
       "      <td>2023-03-26T14:16:34.395436</td>\n",
       "      <td>182.0</td>\n",
       "      <td>None</td>\n",
       "      <td>advertisment</td>\n",
       "    </tr>\n",
       "    <tr>\n",
       "      <th>27</th>\n",
       "      <td>129</td>\n",
       "      <td>2023-03-26T04:28:50.198446</td>\n",
       "      <td>132.0</td>\n",
       "      <td>None</td>\n",
       "      <td>advertisment</td>\n",
       "    </tr>\n",
       "    <tr>\n",
       "      <th>32</th>\n",
       "      <td>129</td>\n",
       "      <td>2023-03-26T04:30:25.748446</td>\n",
       "      <td>132.0</td>\n",
       "      <td>None</td>\n",
       "      <td>advertisment</td>\n",
       "    </tr>\n",
       "    <tr>\n",
       "      <th>...</th>\n",
       "      <td>...</td>\n",
       "      <td>...</td>\n",
       "      <td>...</td>\n",
       "      <td>...</td>\n",
       "      <td>...</td>\n",
       "    </tr>\n",
       "    <tr>\n",
       "      <th>161156</th>\n",
       "      <td>27880</td>\n",
       "      <td>2024-03-24T03:02:27.312388</td>\n",
       "      <td>194.0</td>\n",
       "      <td>None</td>\n",
       "      <td>advertisment</td>\n",
       "    </tr>\n",
       "    <tr>\n",
       "      <th>161160</th>\n",
       "      <td>27881</td>\n",
       "      <td>2024-03-24T13:41:46.007330</td>\n",
       "      <td>194.0</td>\n",
       "      <td>None</td>\n",
       "      <td>advertisment</td>\n",
       "    </tr>\n",
       "    <tr>\n",
       "      <th>161165</th>\n",
       "      <td>27883</td>\n",
       "      <td>2024-03-24T04:29:10.063519</td>\n",
       "      <td>NaN</td>\n",
       "      <td>None</td>\n",
       "      <td>advertisment</td>\n",
       "    </tr>\n",
       "    <tr>\n",
       "      <th>161173</th>\n",
       "      <td>27883</td>\n",
       "      <td>2024-03-24T04:41:09.558519</td>\n",
       "      <td>197.0</td>\n",
       "      <td>None</td>\n",
       "      <td>advertisment</td>\n",
       "    </tr>\n",
       "    <tr>\n",
       "      <th>161190</th>\n",
       "      <td>27885</td>\n",
       "      <td>2024-03-24T07:49:40.882635</td>\n",
       "      <td>137.0</td>\n",
       "      <td>None</td>\n",
       "      <td>advertisment</td>\n",
       "    </tr>\n",
       "  </tbody>\n",
       "</table>\n",
       "<p>21784 rows × 5 columns</p>\n",
       "</div>"
      ],
      "text/plain": [
       "        session_id                   timestamp  user_id track_id    event_type\n",
       "8              127  2023-03-25T20:37:26.696781    182.0     None  advertisment\n",
       "23             128  2023-03-26T14:12:59.821436    182.0     None  advertisment\n",
       "25             128  2023-03-26T14:16:34.395436    182.0     None  advertisment\n",
       "27             129  2023-03-26T04:28:50.198446    132.0     None  advertisment\n",
       "32             129  2023-03-26T04:30:25.748446    132.0     None  advertisment\n",
       "...            ...                         ...      ...      ...           ...\n",
       "161156       27880  2024-03-24T03:02:27.312388    194.0     None  advertisment\n",
       "161160       27881  2024-03-24T13:41:46.007330    194.0     None  advertisment\n",
       "161165       27883  2024-03-24T04:29:10.063519      NaN     None  advertisment\n",
       "161173       27883  2024-03-24T04:41:09.558519    197.0     None  advertisment\n",
       "161190       27885  2024-03-24T07:49:40.882635    137.0     None  advertisment\n",
       "\n",
       "[21784 rows x 5 columns]"
      ]
     },
     "execution_count": 20,
     "metadata": {},
     "output_type": "execute_result"
    }
   ],
   "source": [
    "sessions[sessions[\"event_type\"] == \"advertisment\"]"
   ]
  },
  {
   "cell_type": "markdown",
   "metadata": {},
   "source": [
    "Jeżeli jest wyświetlana reklama to nie ma ona id utworu"
   ]
  },
  {
   "cell_type": "code",
   "execution_count": 21,
   "metadata": {},
   "outputs": [
    {
     "name": "stdout",
     "output_type": "stream",
     "text": [
      "Number of NaN in column user_id: 8021\n",
      "Number of NaN in column track_id: 29922\n",
      "Number of NaN in column event_type: 8153\n"
     ]
    }
   ],
   "source": [
    "get_nulls(sessions)"
   ]
  },
  {
   "cell_type": "markdown",
   "metadata": {},
   "source": [
    "Nie brane pod uwagę reklamy"
   ]
  },
  {
   "cell_type": "code",
   "execution_count": 22,
   "metadata": {},
   "outputs": [
    {
     "name": "stdout",
     "output_type": "stream",
     "text": [
      "Number of NaN in column track_id: 8138\n"
     ]
    }
   ],
   "source": [
    "nan_count = sessions[\"track_id\"].isna().sum() - sessions[sessions[\"event_type\"] == \"advertisment\"][\"track_id\"].isna().sum()\n",
    "if nan_count:\n",
    "    print(f'Number of NaN in column {\"track_id\"}: {nan_count}')"
   ]
  },
  {
   "cell_type": "code",
   "execution_count": 4,
   "metadata": {},
   "outputs": [],
   "source": [
    "from matplotlib import pyplot as plt\n",
    "path = 'img/'\n",
    "for column in tracks.select_dtypes(include=['float64', 'int64']).columns.format():\n",
    "    tracks.boxplot(column)\n",
    "    plt.savefig(path + column)\n",
    "    plt.clf()"
   ]
  },
  {
   "cell_type": "code",
   "execution_count": 41,
   "metadata": {},
   "outputs": [
    {
     "data": {
      "text/plain": [
       "array([[<AxesSubplot:title={'center':'duration_ms'}>]], dtype=object)"
      ]
     },
     "execution_count": 41,
     "metadata": {},
     "output_type": "execute_result"
    },
    {
     "data": {
      "image/png": "[encoded data removed]",
      "text/plain": [
       "<Figure size 640x480 with 1 Axes>"
      ]
     },
     "metadata": {},
     "output_type": "display_data"
    }
   ],
   "source": [
    "tracks.hist(\"duration_ms\")"
   ]
  },
  {
   "cell_type": "markdown",
   "metadata": {},
   "source": [
    "Badanie danych pod kątem:\n",
    "- rozkład atrybutów ciągłych\n",
    "- reprezentatywność danych dyskretnych\n",
    "- braki danych\n",
    "- błędy danych\n",
    "- elementy odstające\n",
    "\n",
    "Później\n",
    "- znormalizować wartości utworów\n",
    "- interakcje\n",
    "- kodowanie\n",
    "- korelacje\n",
    "\n",
    "Dodatkowo:\n",
    "- część dat nie ma dnia i jest tylko sam rok\n",
    "- zapytać na podstawie czego jest ustalana popularność utworu"
   ]
  }
 ],
 "metadata": {
  "kernelspec": {
   "display_name": "Python 3",
   "language": "python",
   "name": "python3"
  },
  "language_info": {
   "codemirror_mode": {
    "name": "ipython",
    "version": 3
   },
   "file_extension": ".py",
   "mimetype": "text/x-python",
   "name": "python",
   "nbconvert_exporter": "python",
   "pygments_lexer": "ipython3",
   "version": "3.11.4"
  }
 },
 "nbformat": 4,
 "nbformat_minor": 2
}
