{
 "cells": [
  {
   "cell_type": "code",
   "execution_count": 25,
   "metadata": {},
   "outputs": [],
   "source": [
    "import pandas as pd\n",
    "import json\n",
    "from random import randint"
   ]
  },
  {
   "cell_type": "code",
   "execution_count": 3,
   "metadata": {},
   "outputs": [],
   "source": [
    "def jsonl2df(path):\n",
    "    with open(path) as fh:\n",
    "        lines = fh.read().splitlines()\n",
    "\n",
    "    df_inter = pd.DataFrame(lines)\n",
    "    df_inter.columns = ['json_element']\n",
    "\n",
    "\n",
    "    df_inter['json_element'].apply(json.loads)\n",
    "\n",
    "    return pd.json_normalize(df_inter['json_element'].apply(json.loads))\n",
    "\n",
    "artists = jsonl2df(\"datav2/artists.jsonl\")\n",
    "tracks = jsonl2df(\"datav2/tracks.jsonl\")"
   ]
  },
  {
   "cell_type": "code",
   "execution_count": 4,
   "metadata": {},
   "outputs": [],
   "source": [
    "prepared_data = pd.merge(tracks,artists, left_on=\"id_artist\", right_on=\"id\")\n",
    "prepared_data = prepared_data.dropna()"
   ]
  },
  {
   "cell_type": "code",
   "execution_count": 30,
   "metadata": {},
   "outputs": [],
   "source": [
    "# zwraca dataframe(id, group)\n",
    "def base_model(data: pd.DataFrame):\n",
    "    track_times = data[['id_x', 'duration_ms']]\n",
    "\n",
    "    # mieszanie wierszy\n",
    "    track_times.sample(frac=1).reset_index(drop=True)\n",
    "    current_group = 0\n",
    "    group_sum = 0\n",
    "\n",
    "    result = []\n",
    "\n",
    "    for index, row in track_times.iterrows():\n",
    "        result.append((row['id_x'], current_group))\n",
    "        group_sum += row['duration_ms']\n",
    "        if group_sum >= 3600000:        # godzina\n",
    "            group_sum = 0\n",
    "            current_group += 1\n",
    "\n",
    "    # ostatnia grupa mniej niż godzina\n",
    "    if group_sum < 3600000:\n",
    "        for i in range(len(result)):\n",
    "            if result[-1-i][1] == current_group:\n",
    "                result[-1-i] = (result[-1-i][0], randint(0,current_group-1))\n",
    "            else:\n",
    "                break\n",
    "\n",
    "    result_df = pd.DataFrame(result, columns=['id', 'group'])\n",
    "    return result_df"
   ]
  },
  {
   "cell_type": "code",
   "execution_count": 33,
   "metadata": {},
   "outputs": [],
   "source": [
    "base_model(prepared_data)"
   ]
  }
 ],
 "metadata": {
  "kernelspec": {
   "display_name": "Python 3",
   "language": "python",
   "name": "python3"
  },
  "language_info": {
   "codemirror_mode": {
    "name": "ipython",
    "version": 3
   },
   "file_extension": ".py",
   "mimetype": "text/x-python",
   "name": "python",
   "nbconvert_exporter": "python",
   "pygments_lexer": "ipython3",
   "version": "3.12.2"
  }
 },
 "nbformat": 4,
 "nbformat_minor": 2
}
