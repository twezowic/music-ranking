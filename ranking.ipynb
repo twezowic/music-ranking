{
 "cells": [
  {
   "cell_type": "code",
   "execution_count": 2,
   "metadata": {},
   "outputs": [],
   "source": [
    "from Ranking import Ranking\n",
    "import random\n",
    "import numpy as np"
   ]
  },
  {
   "cell_type": "code",
   "execution_count": 3,
   "metadata": {},
   "outputs": [],
   "source": [
    "r = Ranking(from_csv=\"sessions_popularity.csv\", weeks=3, limit=0.20)"
   ]
  },
  {
   "cell_type": "code",
   "execution_count": 4,
   "metadata": {},
   "outputs": [
    {
     "name": "stderr",
     "output_type": "stream",
     "text": [
      "100%|██████████| 51/51 [00:01<00:00, 40.11it/s]\n"
     ]
    }
   ],
   "source": [
    "r.group_by_weeks()"
   ]
  },
  {
   "cell_type": "code",
   "execution_count": 6,
   "metadata": {},
   "outputs": [
    {
     "name": "stderr",
     "output_type": "stream",
     "text": [
      "100%|██████████| 51/51 [00:00<00:00, 61.78it/s]"
     ]
    },
    {
     "name": "stdout",
     "output_type": "stream",
     "text": [
      "Period:    Which is better?\n",
      "(2023, 20)-(2023, 22):     Extended\n",
      "(2023, 21)-(2023, 23):     Extended\n",
      "(2023, 22)-(2023, 24):     Extended\n",
      "(2023, 23)-(2023, 25):     Extended\n",
      "(2023, 24)-(2023, 26):     Extended\n",
      "(2023, 25)-(2023, 27):     Extended\n",
      "(2023, 26)-(2023, 28):     Extended\n",
      "(2023, 27)-(2023, 29):     Extended\n",
      "(2023, 28)-(2023, 30):     Extended\n",
      "(2023, 29)-(2023, 31):     Extended\n",
      "(2023, 30)-(2023, 32):     Extended\n",
      "(2023, 31)-(2023, 33):     Extended\n",
      "(2023, 32)-(2023, 34):     Extended\n",
      "(2023, 33)-(2023, 35):     Extended\n",
      "(2023, 34)-(2023, 36):     Extended\n",
      "(2023, 35)-(2023, 37):     Extended\n",
      "(2023, 36)-(2023, 38):     Extended\n",
      "(2023, 37)-(2023, 39):     Extended\n",
      "(2023, 38)-(2023, 40):     Basic\n",
      "(2023, 39)-(2023, 41):     Extended\n",
      "(2023, 40)-(2023, 42):     Extended\n",
      "(2023, 41)-(2023, 43):     Extended\n",
      "(2023, 42)-(2023, 44):     Extended\n",
      "(2023, 43)-(2023, 45):     Extended\n",
      "(2023, 44)-(2023, 46):     Extended\n",
      "(2023, 45)-(2023, 47):     Extended\n",
      "(2023, 46)-(2023, 48):     Extended\n",
      "(2023, 47)-(2023, 49):     Extended\n",
      "(2023, 48)-(2023, 50):     Extended\n",
      "(2023, 49)-(2023, 51):     Extended\n",
      "(2023, 50)-(2023, 52):     Basic\n",
      "(2023, 51)-(2024, 1):     Extended\n",
      "(2023, 52)-(2024, 2):     Extended\n",
      "(2024, 1)-(2024, 3):     Extended\n",
      "(2024, 2)-(2024, 4):     Extended\n",
      "(2024, 3)-(2024, 5):     Extended\n",
      "(2024, 4)-(2024, 6):     Extended\n",
      "(2024, 5)-(2024, 7):     Extended\n",
      "(2024, 6)-(2024, 8):     Extended\n",
      "(2024, 7)-(2024, 9):     Extended\n",
      "(2024, 8)-(2024, 10):     Extended\n",
      "(2024, 9)-(2024, 11):     Extended\n",
      "(2024, 10)-(2024, 12):     Extended\n",
      "(2024, 11)-(2024, 13):     Extended\n",
      "(2024, 12)-(2024, 14):     Extended\n",
      "(2024, 13)-(2024, 15):     Extended\n",
      "(2024, 14)-(2024, 16):     Extended\n",
      "(2024, 15)-(2024, 17):     Extended\n",
      "(2024, 16)-(2024, 18):     Extended\n",
      "(2024, 17)-(2024, 19):     Extended\n",
      "(2024, 18)-(2024, 20):     Extended\n"
     ]
    },
    {
     "name": "stderr",
     "output_type": "stream",
     "text": [
      "\n"
     ]
    }
   ],
   "source": [
    "# tracks = r.sessions_popularity.sample(10)[\"track_id\"].to_list()\n",
    "# for track in tracks:\n",
    "#     r.make_plot(track)\n",
    "seed = 12345\n",
    "random.seed(seed)\n",
    "np.random.seed(seed)\n",
    "\n",
    "a = r.compare_to_basic()\n",
    "a"
   ]
  }
 ],
 "metadata": {
  "kernelspec": {
   "display_name": "Python 3",
   "language": "python",
   "name": "python3"
  },
  "language_info": {
   "codemirror_mode": {
    "name": "ipython",
    "version": 3
   },
   "file_extension": ".py",
   "mimetype": "text/x-python",
   "name": "python",
   "nbconvert_exporter": "python",
   "pygments_lexer": "ipython3",
   "version": "3.10.12"
  }
 },
 "nbformat": 4,
 "nbformat_minor": 2
}
