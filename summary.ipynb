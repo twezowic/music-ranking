{
 "cells": [
  {
   "cell_type": "markdown",
   "metadata": {},
   "source": [
    "Serwowanie predykcji:\n",
    "\n",
    "![Eksperyment A/B](./images/get.png)\n",
    "\n",
    "Eksperyment A/B:\n",
    "\n",
    "![Eksperyment A/B](./images/ab_experiment.png)"
   ]
  }
 ],
 "metadata": {
  "language_info": {
   "name": "python"
  }
 },
 "nbformat": 4,
 "nbformat_minor": 2
}
