{
 "cells": [
  {
   "cell_type": "code",
   "execution_count": 2,
   "metadata": {},
   "outputs": [],
   "source": [
    "import pandas as pd\n",
    "from sklearn.cluster import AgglomerativeClustering\n",
    "\n",
    "df = pd.read_csv(\"grouping.csv\")"
   ]
  },
  {
   "cell_type": "code",
   "execution_count": 3,
   "metadata": {},
   "outputs": [],
   "source": [
    "df = df.drop(columns=[\"id_x\", \"Unnamed: 0\", \"release_date\", 'genres'])"
   ]
  },
  {
   "cell_type": "code",
   "execution_count": 8,
   "metadata": {},
   "outputs": [],
   "source": [
    "test = df[:100]\n",
    "clustering = AgglomerativeClustering(n_clusters=10).fit(test)"
   ]
  },
  {
   "cell_type": "code",
   "execution_count": 13,
   "metadata": {},
   "outputs": [
    {
     "data": {
      "text/plain": [
       "array([1, 1, 6, 1, 0, 3, 8, 3, 5, 8, 8, 3, 1, 3, 3, 0, 8, 1, 8, 8, 2, 3,\n",
       "       1, 6, 1, 6, 1, 0, 6, 6, 4, 3, 6, 1, 6, 3, 0, 0, 2, 2, 3, 6, 6, 3,\n",
       "       2, 6, 0, 0, 0, 2, 2, 2, 1, 0, 0, 0, 6, 3, 6, 6, 1, 0, 6, 2, 6, 6,\n",
       "       0, 2, 6, 3, 0, 1, 0, 0, 1, 0, 6, 0, 8, 0, 6, 8, 2, 0, 1, 6, 6, 1,\n",
       "       0, 7, 6, 3, 2, 0, 9, 4, 1, 0, 6, 0])"
      ]
     },
     "execution_count": 13,
     "metadata": {},
     "output_type": "execute_result"
    }
   ],
   "source": [
    "clustering.labels_"
   ]
  },
  {
   "cell_type": "code",
   "execution_count": 16,
   "metadata": {},
   "outputs": [
    {
     "data": {
      "text/plain": [
       "13"
      ]
     },
     "execution_count": 16,
     "metadata": {},
     "output_type": "execute_result"
    }
   ],
   "source": [
    "clustering.n_features_in_"
   ]
  }
 ],
 "metadata": {
  "kernelspec": {
   "display_name": "Python 3",
   "language": "python",
   "name": "python3"
  },
  "language_info": {
   "codemirror_mode": {
    "name": "ipython",
    "version": 3
   },
   "file_extension": ".py",
   "mimetype": "text/x-python",
   "name": "python",
   "nbconvert_exporter": "python",
   "pygments_lexer": "ipython3",
   "version": "3.12.2"
  }
 },
 "nbformat": 4,
 "nbformat_minor": 2
}
