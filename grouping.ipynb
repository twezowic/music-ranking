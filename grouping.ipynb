{
 "cells": [
  {
   "cell_type": "code",
   "execution_count": 56,
   "metadata": {},
   "outputs": [],
   "source": [
    "import pandas as pd\n",
    "import numpy as np\n",
    "from sklearn.cluster import AgglomerativeClustering\n",
    "from sklearn.preprocessing import MinMaxScaler\n",
    "import json"
   ]
  },
  {
   "cell_type": "markdown",
   "metadata": {},
   "source": [
    "- określać która dana jest typu bool czyli key, author_code\n",
    "- obsłużyć 'autor_code', \"release_date\", 'genres'"
   ]
  },
  {
   "cell_type": "code",
   "execution_count": 57,
   "metadata": {},
   "outputs": [],
   "source": [
    "TIME_LIMIT = 3600000"
   ]
  },
  {
   "cell_type": "code",
   "execution_count": 58,
   "metadata": {},
   "outputs": [],
   "source": [
    "def jsonl2df(path):\n",
    "    with open(path) as fh:\n",
    "        lines = fh.read().splitlines()\n",
    "\n",
    "    df_inter = pd.DataFrame(lines)\n",
    "    df_inter.columns = ['json_element']\n",
    "\n",
    "\n",
    "    df_inter['json_element'].apply(json.loads)\n",
    "\n",
    "    return pd.json_normalize(df_inter['json_element'].apply(json.loads))\n",
    "\n",
    "artists = jsonl2df(\"datav2/artists.jsonl\")\n",
    "tracks = jsonl2df(\"datav2/tracks.jsonl\")"
   ]
  },
  {
   "cell_type": "code",
   "execution_count": 59,
   "metadata": {},
   "outputs": [],
   "source": [
    "# result = ['ranking', 'list', ...]\n",
    "\n",
    "# tracks[tracks['id'].isin(result)]"
   ]
  },
  {
   "cell_type": "code",
   "execution_count": 60,
   "metadata": {},
   "outputs": [],
   "source": [
    "# Join tracks with artists\n",
    "prepared_data = pd.merge(tracks,artists, left_on=\"id_artist\", right_on=\"id\")\n",
    "\n",
    "# Remove rows with empty values\n",
    "prepared_data = prepared_data.dropna()\n",
    "prepared_data = prepared_data.drop(columns=[\"name_x\", \"popularity\", \"id_y\", \"name_y\"])\n",
    "\n",
    "# Convert dates to number of days from earliest track\n",
    "prepared_data[\"release_date\"] = pd.to_datetime(prepared_data[\"release_date\"], format = \"mixed\")\n",
    "min_date = prepared_data['release_date'].min()\n",
    "prepared_data['release_date'] = (prepared_data['release_date'] - min_date).dt.days\n",
    "\n",
    "# Scale the attributes to [0, 1]\n",
    "without = ['id_x', 'duration_ms', 'id_artist', 'genres']\n",
    "scaled_columns = list(set(prepared_data.columns).difference(without))\n",
    "prepared_data[scaled_columns] = MinMaxScaler().fit_transform(prepared_data[scaled_columns])\n",
    "\n",
    "# One-hot encoding of genres\n",
    "genres_en = pd.get_dummies(prepared_data['genres'].apply(pd.Series).stack()).groupby(level=0).sum()\n",
    "prepared_data = pd.concat([prepared_data, genres_en], axis=1)\n",
    "\n",
    "# One-hot encoding of artists\n",
    "artists_en = pd.get_dummies(prepared_data['id_artist']).groupby(level=0).sum()\n",
    "prepared_data = pd.concat([prepared_data, artists_en], axis=1)\n",
    "\n",
    "prepared_data = prepared_data.drop(columns=['id_artist', 'genres'])"
   ]
  },
  {
   "cell_type": "markdown",
   "metadata": {},
   "source": [
    "TODO\n",
    "- Selekcja atrybutów\n",
    "- Może ograniczyć gatunki i autorów sprawdzając czy występują minimalna liczbę razy, [Infrequent categories sklearn](https://scikit-learn.org/stable/modules/preprocessing.html#infrequent-categories)"
   ]
  },
  {
   "cell_type": "code",
   "execution_count": 61,
   "metadata": {},
   "outputs": [],
   "source": [
    "# def check_less(data, min_duration=TIME_LIMIT):\n",
    "#     result = []\n",
    "#     for group in data['group'].unique():\n",
    "#         group_data = data[data['group'] == group]\n",
    "#         if group_data['duration_ms'].sum() < min_duration:\n",
    "#             result.append(group)\n",
    "#     return result"
   ]
  },
  {
   "cell_type": "code",
   "execution_count": 62,
   "metadata": {},
   "outputs": [],
   "source": [
    "# def merge_clusters(data, min_duration=TIME_LIMIT):\n",
    "#     params = data.drop(columns=['duration_ms', 'id_x'])\n",
    "#     clustering = AgglomerativeClustering(n_clusters=None, distance_threshold=0).fit(params)\n",
    "#     # clustering = AgglomerativeClustering(n_clusters=10).fit(params)\n",
    "#     data.loc[:, 'group'] = clustering.labels_\n",
    "\n",
    "#     n_samples = data.shape[0]\n",
    "#     cluster_map = {i: i for i in range(n_samples)}  # Mapa dla połączeń klastrów\n",
    "\n",
    "#     for i in range(clustering.children_.shape[0]):\n",
    "#         cluster_1 = int(clustering.children_[i, 0])\n",
    "#         cluster_2 = int(clustering.children_[i, 1])\n",
    "\n",
    "#         mapped_cluster_1 = cluster_map.get(cluster_1, cluster_1)\n",
    "#         mapped_cluster_2 = cluster_map.get(cluster_2, cluster_2)\n",
    "\n",
    "#         sum_duration_1 = data.loc[data['group'] == mapped_cluster_1, 'duration_ms'].sum()\n",
    "#         sum_duration_2 = data.loc[data['group'] == mapped_cluster_2, 'duration_ms'].sum()\n",
    "\n",
    "#         if sum_duration_1 < min_duration or sum_duration_2 < min_duration:\n",
    "#             new_cluster = max(cluster_map.values()) + 1\n",
    "#             cluster_map[cluster_1] = new_cluster\n",
    "#             cluster_map[cluster_2] = new_cluster\n",
    "#             data.loc[data['group'] == mapped_cluster_1, 'group'] = new_cluster\n",
    "#             data.loc[data['group'] == mapped_cluster_2, 'group'] = new_cluster\n",
    "#             cluster_map[mapped_cluster_1] = new_cluster\n",
    "#             cluster_map[mapped_cluster_2] = new_cluster\n",
    "\n",
    "#     return data"
   ]
  },
  {
   "cell_type": "code",
   "execution_count": 63,
   "metadata": {},
   "outputs": [],
   "source": [
    "def check_all_more_than_hour(data: pd.DataFrame):\n",
    "    return all(data.groupby(by=['group'])['duration_ms'].sum() > TIME_LIMIT)"
   ]
  },
  {
   "cell_type": "code",
   "execution_count": 64,
   "metadata": {},
   "outputs": [],
   "source": [
    "def my_merge_clusters(data, min_duration=TIME_LIMIT):\n",
    "    params = data.drop(columns=['duration_ms', 'id_x'])\n",
    "    clustering = AgglomerativeClustering(n_clusters=None, distance_threshold=0).fit(params)\n",
    "    # clustering = AgglomerativeClustering(n_clusters=3).fit(params)\n",
    "\n",
    "    data.loc[:, 'group'] = clustering.labels_\n",
    "\n",
    "    n_samples = data.shape[0]\n",
    "\n",
    "    # sprawdzać też czy nie przekroczy dystansu\n",
    "    for i, (cluster1, cluster2) in enumerate(clustering.children_): # children zawiera listę krotek które klastry się łączą\n",
    "        data.loc[data['group'] == cluster1, 'group'] = n_samples + i\n",
    "        data.loc[data['group'] == cluster2, 'group'] = n_samples + i\n",
    "        if check_all_more_than_hour(data):\n",
    "            return data\n",
    "\n",
    "    return data"
   ]
  },
  {
   "cell_type": "code",
   "execution_count": 65,
   "metadata": {},
   "outputs": [],
   "source": [
    "# p = my_merge_clusters(prepared_data[:100])"
   ]
  },
  {
   "cell_type": "code",
   "execution_count": 66,
   "metadata": {},
   "outputs": [],
   "source": [
    "# p"
   ]
  },
  {
   "cell_type": "code",
   "execution_count": 67,
   "metadata": {},
   "outputs": [],
   "source": [
    "# # Dataframe (id, group)\n",
    "# def advanced_model(data):\n",
    "#     result = merge_clusters(data)\n",
    "\n",
    "#     less_hour = check_less(result)\n",
    "\n",
    "#     result = data[~data['group'].isin(less_hour)]\n",
    "\n",
    "#     return result[['id_x', 'group']]"
   ]
  },
  {
   "cell_type": "code",
   "execution_count": 68,
   "metadata": {},
   "outputs": [],
   "source": [
    "# x = advanced_model(prepared_data[:100])"
   ]
  },
  {
   "cell_type": "code",
   "execution_count": 69,
   "metadata": {},
   "outputs": [],
   "source": [
    "# p.groupby(by='group').count()"
   ]
  },
  {
   "cell_type": "code",
   "execution_count": 70,
   "metadata": {},
   "outputs": [],
   "source": [
    "# result = x[x['group'] == 7795]['id_x']\n",
    "# tracks[tracks['id'].isin(result)].describe()"
   ]
  },
  {
   "cell_type": "markdown",
   "metadata": {},
   "source": [
    "Zamiast ponownego liczenia klastrów zrobić to na podstawie utworzonych może"
   ]
  },
  {
   "cell_type": "code",
   "execution_count": 71,
   "metadata": {},
   "outputs": [],
   "source": [
    "import numpy as np\n",
    "from matplotlib import pyplot as plt\n",
    "from scipy.cluster.hierarchy import dendrogram\n",
    "\n",
    "def plot_dendrogram(model, **kwargs):\n",
    "    # Create linkage matrix and then plot the dendrogram\n",
    "\n",
    "    # create the counts of samples under each node\n",
    "    counts = np.zeros(model.children_.shape[0])\n",
    "    n_samples = len(model.labels_)\n",
    "    for i, merge in enumerate(model.children_):\n",
    "        current_count = 0\n",
    "        for child_idx in merge:\n",
    "            if child_idx < n_samples:\n",
    "                current_count += 1  # leaf node\n",
    "            else:\n",
    "                current_count += counts[child_idx - n_samples]\n",
    "        counts[i] = current_count\n",
    "\n",
    "    linkage_matrix = np.column_stack(\n",
    "        [model.children_, model.distances_, counts]\n",
    "    ).astype(float)\n",
    "\n",
    "    # Plot the corresponding dendrogram\n",
    "    dendrogram(linkage_matrix, **kwargs)"
   ]
  },
  {
   "cell_type": "code",
   "execution_count": 72,
   "metadata": {},
   "outputs": [],
   "source": [
    "# clustering = AgglomerativeClustering(distance_threshold=0, n_clusters=None).fit(test)\n",
    "\n",
    "# plot_dendrogram(clustering, truncate_mode=\"level\", p=3)"
   ]
  },
  {
   "cell_type": "code",
   "execution_count": 73,
   "metadata": {},
   "outputs": [],
   "source": [
    "from sklearn.decomposition import PCA\n",
    "\n",
    "def pca_scatter(model, labels):\n",
    "    pca = PCA(n_components=2)\n",
    "    X_pca = pca.fit_transform(model)\n",
    "    plt.scatter(X_pca[:, 0], X_pca[:, 1], c=labels, cmap='viridis')\n",
    "    plt.title('Aglomerative Clustering with PCA')\n",
    "    plt.show()"
   ]
  },
  {
   "cell_type": "code",
   "execution_count": 81,
   "metadata": {},
   "outputs": [],
   "source": [
    "test = prepared_data[:100]"
   ]
  },
  {
   "cell_type": "code",
   "execution_count": 83,
   "metadata": {},
   "outputs": [
    {
     "data": {
      "image/png": "[encoded data removed]",
      "text/plain": [
       "<Figure size 640x480 with 1 Axes>"
      ]
     },
     "metadata": {},
     "output_type": "display_data"
    }
   ],
   "source": [
    "params = test.drop(columns=['id_x', 'duration_ms'])\n",
    "\n",
    "clustering = AgglomerativeClustering(n_clusters=3).fit(params)\n",
    "labels = clustering.labels_\n",
    "pca_scatter(params, labels)"
   ]
  },
  {
   "cell_type": "code",
   "execution_count": 84,
   "metadata": {},
   "outputs": [
    {
     "data": {
      "text/plain": [
       "array([0, 2, 2, 2, 2, 0, 0, 2, 2, 2, 2, 0, 2, 0, 0, 0, 0, 0, 0, 2, 0, 2,\n",
       "       0, 2, 2, 0, 0, 0, 2, 0, 0, 0, 0, 0, 2, 0, 0, 0, 0, 0, 2, 2, 0, 0,\n",
       "       0, 0, 0, 0, 0, 0, 0, 0, 0, 2, 0, 0, 0, 2, 2, 0, 0, 2, 2, 0, 0, 2,\n",
       "       1, 1, 1, 0, 1, 1, 1, 1, 1, 1, 1, 1, 0, 1, 1, 1, 1, 0, 1, 1, 1, 1,\n",
       "       0, 1, 0, 0, 2, 1, 1, 0, 1, 1, 0, 1])"
      ]
     },
     "execution_count": 84,
     "metadata": {},
     "output_type": "execute_result"
    }
   ],
   "source": [
    "labels"
   ]
  },
  {
   "cell_type": "code",
   "execution_count": 85,
   "metadata": {},
   "outputs": [
    {
     "name": "stderr",
     "output_type": "stream",
     "text": [
      "/tmp/ipykernel_19329/3013538123.py:6: SettingWithCopyWarning: \n",
      "A value is trying to be set on a copy of a slice from a DataFrame.\n",
      "Try using .loc[row_indexer,col_indexer] = value instead\n",
      "\n",
      "See the caveats in the documentation: https://pandas.pydata.org/pandas-docs/stable/user_guide/indexing.html#returning-a-view-versus-a-copy\n",
      "  data.loc[:, 'group'] = clustering.labels_\n"
     ]
    },
    {
     "data": {
      "image/png": "[encoded data removed]",
      "text/plain": [
       "<Figure size 640x480 with 1 Axes>"
      ]
     },
     "metadata": {},
     "output_type": "display_data"
    }
   ],
   "source": [
    "my = my_merge_clusters(test)\n",
    "\n",
    "dataset = my.drop(columns=['id_x', 'duration_ms', 'group'])\n",
    "labels = my['group']\n",
    "pca_scatter(dataset, labels)"
   ]
  }
 ],
 "metadata": {
  "kernelspec": {
   "display_name": "Python 3",
   "language": "python",
   "name": "python3"
  },
  "language_info": {
   "codemirror_mode": {
    "name": "ipython",
    "version": 3
   },
   "file_extension": ".py",
   "mimetype": "text/x-python",
   "name": "python",
   "nbconvert_exporter": "python",
   "pygments_lexer": "ipython3",
   "version": "3.12.2"
  }
 },
 "nbformat": 4,
 "nbformat_minor": 2
}
