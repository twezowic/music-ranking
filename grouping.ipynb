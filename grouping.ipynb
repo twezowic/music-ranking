{
 "cells": [
  {
   "cell_type": "code",
   "execution_count": 7,
   "metadata": {},
   "outputs": [],
   "source": [
    "import pandas as pd\n",
    "from scipy.cluster.hierarchy import linkage\n",
    "from sklearn.cluster import AgglomerativeClustering\n",
    "from sklearn.preprocessing import MinMaxScaler, OneHotEncoder\n",
    "import json"
   ]
  },
  {
   "cell_type": "markdown",
   "metadata": {},
   "source": [
    "- określać która dana jest typu bool czyli key, author_code\n",
    "- obsłużyć 'autor_code', \"release_date\", 'genres'"
   ]
  },
  {
   "cell_type": "code",
   "execution_count": 8,
   "metadata": {},
   "outputs": [],
   "source": [
    "TIME_LIMIT = 3600000"
   ]
  },
  {
   "cell_type": "code",
   "execution_count": null,
   "metadata": {},
   "outputs": [],
   "source": [
    "df = pd.DataFrame()"
   ]
  },
  {
   "cell_type": "code",
   "execution_count": 9,
   "metadata": {},
   "outputs": [],
   "source": [
    "def jsonl2df(path):\n",
    "    with open(path) as fh:\n",
    "        lines = fh.read().splitlines()\n",
    "\n",
    "    df_inter = pd.DataFrame(lines)\n",
    "    df_inter.columns = ['json_element']\n",
    "\n",
    "\n",
    "    df_inter['json_element'].apply(json.loads)\n",
    "\n",
    "    return pd.json_normalize(df_inter['json_element'].apply(json.loads))\n",
    "\n",
    "artists = jsonl2df(\"datav2/artists.jsonl\")\n",
    "tracks = jsonl2df(\"datav2/tracks.jsonl\")"
   ]
  },
  {
   "cell_type": "code",
   "execution_count": 27,
   "metadata": {},
   "outputs": [
    {
     "data": {
      "text/html": [
       "<div>\n",
       "<style scoped>\n",
       "    .dataframe tbody tr th:only-of-type {\n",
       "        vertical-align: middle;\n",
       "    }\n",
       "\n",
       "    .dataframe tbody tr th {\n",
       "        vertical-align: top;\n",
       "    }\n",
       "\n",
       "    .dataframe thead th {\n",
       "        text-align: right;\n",
       "    }\n",
       "</style>\n",
       "<table border=\"1\" class=\"dataframe\">\n",
       "  <thead>\n",
       "    <tr style=\"text-align: right;\">\n",
       "      <th></th>\n",
       "      <th>id</th>\n",
       "      <th>name</th>\n",
       "      <th>popularity</th>\n",
       "      <th>duration_ms</th>\n",
       "      <th>explicit</th>\n",
       "      <th>id_artist</th>\n",
       "      <th>release_date</th>\n",
       "      <th>danceability</th>\n",
       "      <th>energy</th>\n",
       "      <th>key</th>\n",
       "      <th>loudness</th>\n",
       "      <th>speechiness</th>\n",
       "      <th>acousticness</th>\n",
       "      <th>instrumentalness</th>\n",
       "      <th>liveness</th>\n",
       "      <th>valence</th>\n",
       "      <th>tempo</th>\n",
       "    </tr>\n",
       "  </thead>\n",
       "  <tbody>\n",
       "  </tbody>\n",
       "</table>\n",
       "</div>"
      ],
      "text/plain": [
       "Empty DataFrame\n",
       "Columns: [id, name, popularity, duration_ms, explicit, id_artist, release_date, danceability, energy, key, loudness, speechiness, acousticness, instrumentalness, liveness, valence, tempo]\n",
       "Index: []"
      ]
     },
     "execution_count": 27,
     "metadata": {},
     "output_type": "execute_result"
    }
   ],
   "source": [
    "result = ['ranking', 'list', ...]\n",
    "\n",
    "tracks[tracks['id'].isin(result)]"
   ]
  },
  {
   "cell_type": "code",
   "execution_count": 10,
   "metadata": {},
   "outputs": [],
   "source": [
    "# Join tracks with artists\n",
    "prepared_data = pd.merge(tracks,artists, left_on=\"id_artist\", right_on=\"id\")\n",
    "\n",
    "# Remove rows with empty values\n",
    "prepared_data = prepared_data.dropna()\n",
    "prepared_data = prepared_data.drop(columns=[\"name_x\", \"popularity\", \"id_y\", \"name_y\"])\n",
    "\n",
    "# Convert dates to number of days from earliest track\n",
    "prepared_data[\"release_date\"] = pd.to_datetime(prepared_data[\"release_date\"], format = \"mixed\")\n",
    "min_date = prepared_data['release_date'].min()\n",
    "prepared_data['release_date'] = (prepared_data['release_date'] - min_date).dt.days\n",
    "\n",
    "# Scale the attributes to [0, 1]\n",
    "without = ['id_x', 'duration_ms', 'id_artists', 'genres', 'id_artist']\n",
    "scaled_columns = list(set(prepared_data.columns).difference(without))\n",
    "prepared_data[scaled_columns] = MinMaxScaler().fit_transform(prepared_data[scaled_columns])\n",
    "\n",
    "# Onehot-encoding of genres\n",
    "genres = pd.get_dummies(prepared_data['genres'].apply(pd.Series).stack()).groupby(level=0).sum()\n",
    "prepared_data = pd.concat([prepared_data, genres], axis=1)\n",
    "\n",
    "# Onehot-encoding of artists\n",
    "encoder = OneHotEncoder(sparse_output=False)\n",
    "encoded_array = encoder.fit_transform(prepared_data[['id_artist']])\n",
    "encoded_df = pd.DataFrame(encoded_array, columns=encoder.get_feature_names_out(['id_artist']))\n",
    "prepared_data = pd.concat([prepared_data, encoded_df], axis=1)\n",
    "\n",
    "prepared_data = prepared_data.drop(columns=['id_artist', 'genres'])"
   ]
  },
  {
   "cell_type": "code",
   "execution_count": 11,
   "metadata": {},
   "outputs": [],
   "source": [
    "def check_less(data, min_duration):\n",
    "    for group in data['group'].unique():\n",
    "        group_data = data[data['group'] == group]\n",
    "        if group_data['duration_ms'].sum() < min_duration:\n",
    "            print('less')\n",
    "    return data"
   ]
  },
  {
   "cell_type": "code",
   "execution_count": 12,
   "metadata": {},
   "outputs": [],
   "source": [
    "def merge_clusters(data, min_duration=TIME_LIMIT):\n",
    "    params = data.drop(columns=['duration_ms', 'id_x'])\n",
    "    clustering = AgglomerativeClustering(n_clusters=None, distance_threshold=0).fit(params)\n",
    "    # clustering = AgglomerativeClustering(n_clusters=10).fit(params)\n",
    "    data.loc[:, 'group'] = clustering.labels_\n",
    "\n",
    "    linkage_matrix = linkage(data.drop(columns=['id_x']), method='ward')\n",
    "    n_samples = data.shape[0]\n",
    "    cluster_map = {i: i for i in range(n_samples)}  # Mapa dla połączeń klastrów\n",
    "\n",
    "    for i in range(linkage_matrix.shape[0]):\n",
    "        cluster_1 = int(linkage_matrix[i, 0])\n",
    "        cluster_2 = int(linkage_matrix[i, 1])\n",
    "\n",
    "        mapped_cluster_1 = cluster_map.get(cluster_1, cluster_1)\n",
    "        mapped_cluster_2 = cluster_map.get(cluster_2, cluster_2)\n",
    "\n",
    "        sum_duration_1 = data.loc[data['group'] == mapped_cluster_1, 'duration_ms'].sum()\n",
    "        sum_duration_2 = data.loc[data['group'] == mapped_cluster_2, 'duration_ms'].sum()\n",
    "\n",
    "        if sum_duration_1 < min_duration or sum_duration_2 < min_duration:\n",
    "            new_cluster = max(cluster_map.values()) + 1\n",
    "            cluster_map[cluster_1] = new_cluster\n",
    "            cluster_map[cluster_2] = new_cluster\n",
    "            data.loc[data['group'] == mapped_cluster_1, 'group'] = new_cluster\n",
    "            data.loc[data['group'] == mapped_cluster_2, 'group'] = new_cluster\n",
    "            cluster_map[mapped_cluster_1] = new_cluster\n",
    "            cluster_map[mapped_cluster_2] = new_cluster\n",
    "\n",
    "    return data"
   ]
  },
  {
   "cell_type": "code",
   "execution_count": 13,
   "metadata": {},
   "outputs": [],
   "source": [
    "# Dataframe (id, group)\n",
    "def advanced_model(data):\n",
    "    data = merge_clusters(data)\n",
    "\n",
    "    less_hour = []\n",
    "    for group in data['group'].unique():\n",
    "        if data[data['group'] == group]['duration_ms'].sum() < TIME_LIMIT:\n",
    "            less_hour.append(group)\n",
    "\n",
    "    result = []\n",
    "    for index, row in data.iterrows():\n",
    "        if row['group'] not in less_hour:\n",
    "            result.append((row['id_x'], row['group']))\n",
    "\n",
    "    result_df = pd.DataFrame(result, columns=['id', 'group'])\n",
    "    return result_df"
   ]
  },
  {
   "cell_type": "code",
   "execution_count": 14,
   "metadata": {},
   "outputs": [
    {
     "name": "stderr",
     "output_type": "stream",
     "text": [
      "/tmp/ipykernel_20443/2925611631.py:5: SettingWithCopyWarning: \n",
      "A value is trying to be set on a copy of a slice from a DataFrame.\n",
      "Try using .loc[row_indexer,col_indexer] = value instead\n",
      "\n",
      "See the caveats in the documentation: https://pandas.pydata.org/pandas-docs/stable/user_guide/indexing.html#returning-a-view-versus-a-copy\n",
      "  data.loc[:, 'group'] = clustering.labels_\n"
     ]
    }
   ],
   "source": [
    "x = advanced_model(prepared_data[:4000])"
   ]
  },
  {
   "cell_type": "code",
   "execution_count": 15,
   "metadata": {},
   "outputs": [
    {
     "data": {
      "text/html": [
       "<div>\n",
       "<style scoped>\n",
       "    .dataframe tbody tr th:only-of-type {\n",
       "        vertical-align: middle;\n",
       "    }\n",
       "\n",
       "    .dataframe tbody tr th {\n",
       "        vertical-align: top;\n",
       "    }\n",
       "\n",
       "    .dataframe thead th {\n",
       "        text-align: right;\n",
       "    }\n",
       "</style>\n",
       "<table border=\"1\" class=\"dataframe\">\n",
       "  <thead>\n",
       "    <tr style=\"text-align: right;\">\n",
       "      <th></th>\n",
       "      <th>id</th>\n",
       "      <th>group</th>\n",
       "    </tr>\n",
       "  </thead>\n",
       "  <tbody>\n",
       "    <tr>\n",
       "      <th>0</th>\n",
       "      <td>0RNxWy0PC3AyH4ThH3aGK6</td>\n",
       "      <td>7747</td>\n",
       "    </tr>\n",
       "    <tr>\n",
       "      <th>1</th>\n",
       "      <td>2W889aLIKxULEefrleFBFI</td>\n",
       "      <td>7820</td>\n",
       "    </tr>\n",
       "    <tr>\n",
       "      <th>2</th>\n",
       "      <td>4Pnzw1nLOpDNV6MKI5ueIR</td>\n",
       "      <td>7736</td>\n",
       "    </tr>\n",
       "    <tr>\n",
       "      <th>3</th>\n",
       "      <td>7GLmfKOe5BfOXk7334DoKt</td>\n",
       "      <td>7728</td>\n",
       "    </tr>\n",
       "    <tr>\n",
       "      <th>4</th>\n",
       "      <td>6kD1SNGPkfX9LwaGd1FG92</td>\n",
       "      <td>7550</td>\n",
       "    </tr>\n",
       "    <tr>\n",
       "      <th>...</th>\n",
       "      <td>...</td>\n",
       "      <td>...</td>\n",
       "    </tr>\n",
       "    <tr>\n",
       "      <th>3925</th>\n",
       "      <td>0gsl92EMIScPGV1AU35nuD</td>\n",
       "      <td>7692</td>\n",
       "    </tr>\n",
       "    <tr>\n",
       "      <th>3926</th>\n",
       "      <td>0Uqs7ilt5kGX9NzFDWTBrP</td>\n",
       "      <td>7528</td>\n",
       "    </tr>\n",
       "    <tr>\n",
       "      <th>3927</th>\n",
       "      <td>2PdIo7ewQPuAsP99LVg9uy</td>\n",
       "      <td>7518</td>\n",
       "    </tr>\n",
       "    <tr>\n",
       "      <th>3928</th>\n",
       "      <td>36AWdhZIGLUTkWpJDhe7va</td>\n",
       "      <td>7692</td>\n",
       "    </tr>\n",
       "    <tr>\n",
       "      <th>3929</th>\n",
       "      <td>6POE7KXN1KzMGeAWlFeCB3</td>\n",
       "      <td>7725</td>\n",
       "    </tr>\n",
       "  </tbody>\n",
       "</table>\n",
       "<p>3930 rows × 2 columns</p>\n",
       "</div>"
      ],
      "text/plain": [
       "                          id  group\n",
       "0     0RNxWy0PC3AyH4ThH3aGK6   7747\n",
       "1     2W889aLIKxULEefrleFBFI   7820\n",
       "2     4Pnzw1nLOpDNV6MKI5ueIR   7736\n",
       "3     7GLmfKOe5BfOXk7334DoKt   7728\n",
       "4     6kD1SNGPkfX9LwaGd1FG92   7550\n",
       "...                      ...    ...\n",
       "3925  0gsl92EMIScPGV1AU35nuD   7692\n",
       "3926  0Uqs7ilt5kGX9NzFDWTBrP   7528\n",
       "3927  2PdIo7ewQPuAsP99LVg9uy   7518\n",
       "3928  36AWdhZIGLUTkWpJDhe7va   7692\n",
       "3929  6POE7KXN1KzMGeAWlFeCB3   7725\n",
       "\n",
       "[3930 rows x 2 columns]"
      ]
     },
     "execution_count": 15,
     "metadata": {},
     "output_type": "execute_result"
    }
   ],
   "source": [
    "x"
   ]
  },
  {
   "cell_type": "code",
   "execution_count": 16,
   "metadata": {},
   "outputs": [
    {
     "data": {
      "text/html": [
       "<div>\n",
       "<style scoped>\n",
       "    .dataframe tbody tr th:only-of-type {\n",
       "        vertical-align: middle;\n",
       "    }\n",
       "\n",
       "    .dataframe tbody tr th {\n",
       "        vertical-align: top;\n",
       "    }\n",
       "\n",
       "    .dataframe thead th {\n",
       "        text-align: right;\n",
       "    }\n",
       "</style>\n",
       "<table border=\"1\" class=\"dataframe\">\n",
       "  <thead>\n",
       "    <tr style=\"text-align: right;\">\n",
       "      <th></th>\n",
       "      <th>id</th>\n",
       "    </tr>\n",
       "    <tr>\n",
       "      <th>group</th>\n",
       "      <th></th>\n",
       "    </tr>\n",
       "  </thead>\n",
       "  <tbody>\n",
       "    <tr>\n",
       "      <th>7208</th>\n",
       "      <td>13</td>\n",
       "    </tr>\n",
       "    <tr>\n",
       "      <th>7277</th>\n",
       "      <td>14</td>\n",
       "    </tr>\n",
       "    <tr>\n",
       "      <th>7326</th>\n",
       "      <td>13</td>\n",
       "    </tr>\n",
       "    <tr>\n",
       "      <th>7344</th>\n",
       "      <td>18</td>\n",
       "    </tr>\n",
       "    <tr>\n",
       "      <th>7361</th>\n",
       "      <td>16</td>\n",
       "    </tr>\n",
       "    <tr>\n",
       "      <th>...</th>\n",
       "      <td>...</td>\n",
       "    </tr>\n",
       "    <tr>\n",
       "      <th>7876</th>\n",
       "      <td>45</td>\n",
       "    </tr>\n",
       "    <tr>\n",
       "      <th>7881</th>\n",
       "      <td>35</td>\n",
       "    </tr>\n",
       "    <tr>\n",
       "      <th>7890</th>\n",
       "      <td>33</td>\n",
       "    </tr>\n",
       "    <tr>\n",
       "      <th>7897</th>\n",
       "      <td>22</td>\n",
       "    </tr>\n",
       "    <tr>\n",
       "      <th>7909</th>\n",
       "      <td>35</td>\n",
       "    </tr>\n",
       "  </tbody>\n",
       "</table>\n",
       "<p>159 rows × 1 columns</p>\n",
       "</div>"
      ],
      "text/plain": [
       "       id\n",
       "group    \n",
       "7208   13\n",
       "7277   14\n",
       "7326   13\n",
       "7344   18\n",
       "7361   16\n",
       "...    ..\n",
       "7876   45\n",
       "7881   35\n",
       "7890   33\n",
       "7897   22\n",
       "7909   35\n",
       "\n",
       "[159 rows x 1 columns]"
      ]
     },
     "execution_count": 16,
     "metadata": {},
     "output_type": "execute_result"
    }
   ],
   "source": [
    "x.groupby('group').count()"
   ]
  },
  {
   "cell_type": "markdown",
   "metadata": {},
   "source": [
    "Zamiast ponownego liczenia klastrów zrobić to na podstawie utworzonych może"
   ]
  },
  {
   "cell_type": "code",
   "execution_count": 17,
   "metadata": {},
   "outputs": [],
   "source": [
    "import numpy as np\n",
    "from matplotlib import pyplot as plt\n",
    "from scipy.cluster.hierarchy import dendrogram\n",
    "\n",
    "def plot_dendrogram(model, **kwargs):\n",
    "    # Create linkage matrix and then plot the dendrogram\n",
    "\n",
    "    # create the counts of samples under each node\n",
    "    counts = np.zeros(model.children_.shape[0])\n",
    "    n_samples = len(model.labels_)\n",
    "    for i, merge in enumerate(model.children_):\n",
    "        current_count = 0\n",
    "        for child_idx in merge:\n",
    "            if child_idx < n_samples:\n",
    "                current_count += 1  # leaf node\n",
    "            else:\n",
    "                current_count += counts[child_idx - n_samples]\n",
    "        counts[i] = current_count\n",
    "\n",
    "    linkage_matrix = np.column_stack(\n",
    "        [model.children_, model.distances_, counts]\n",
    "    ).astype(float)\n",
    "\n",
    "    # Plot the corresponding dendrogram\n",
    "    dendrogram(linkage_matrix, **kwargs)"
   ]
  },
  {
   "cell_type": "code",
   "execution_count": 18,
   "metadata": {},
   "outputs": [],
   "source": [
    "test = prepared_data.drop(columns=['id_x'])"
   ]
  },
  {
   "cell_type": "code",
   "execution_count": 19,
   "metadata": {},
   "outputs": [
    {
     "data": {
      "image/png": "[encoded data removed]",
      "text/plain": [
       "<Figure size 640x480 with 1 Axes>"
      ]
     },
     "metadata": {},
     "output_type": "display_data"
    }
   ],
   "source": [
    "clustering = AgglomerativeClustering(distance_threshold=0, n_clusters=None).fit(test)\n",
    "\n",
    "plot_dendrogram(clustering, truncate_mode=\"level\", p=3)"
   ]
  },
  {
   "cell_type": "code",
   "execution_count": 20,
   "metadata": {},
   "outputs": [],
   "source": [
    "from sklearn.decomposition import PCA\n",
    "\n",
    "def pca_scatter(model, labels):\n",
    "    # Redukcja wymiarów za pomocą PCA do wizualizacji\n",
    "    pca = PCA(n_components=2)\n",
    "    X_pca = pca.fit_transform(model)\n",
    "\n",
    "    # Wizualizacja klastrów\n",
    "    plt.scatter(X_pca[:, 0], X_pca[:, 1], c=labels, cmap='viridis')\n",
    "    plt.title('KMeans Clustering with PCA')\n",
    "    plt.show()"
   ]
  },
  {
   "cell_type": "code",
   "execution_count": 21,
   "metadata": {},
   "outputs": [
    {
     "data": {
      "image/png": "[encoded data removed]",
      "text/plain": [
       "<Figure size 640x480 with 1 Axes>"
      ]
     },
     "metadata": {},
     "output_type": "display_data"
    }
   ],
   "source": [
    "clustering = AgglomerativeClustering(n_clusters=10).fit(test)\n",
    "labels = clustering.labels_\n",
    "\n",
    "pca_scatter(test, labels)"
   ]
  }
 ],
 "metadata": {
  "kernelspec": {
   "display_name": "Python 3",
   "language": "python",
   "name": "python3"
  },
  "language_info": {
   "codemirror_mode": {
    "name": "ipython",
    "version": 3
   },
   "file_extension": ".py",
   "mimetype": "text/x-python",
   "name": "python",
   "nbconvert_exporter": "python",
   "pygments_lexer": "ipython3",
   "version": "3.12.2"
  }
 },
 "nbformat": 4,
 "nbformat_minor": 2
}
