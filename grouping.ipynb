{
 "cells": [
  {
   "cell_type": "code",
   "execution_count": 80,
   "metadata": {},
   "outputs": [],
   "source": [
    "import pandas as pd\n",
    "import numpy as np\n",
    "from sklearn.cluster import AgglomerativeClustering\n",
    "from scipy.cluster.hierarchy import linkage\n",
    "from sklearn.preprocessing import MinMaxScaler\n",
    "from random import randint\n",
    "import json"
   ]
  },
  {
   "cell_type": "markdown",
   "metadata": {},
   "source": [
    "# Przygotowanie danych"
   ]
  },
  {
   "cell_type": "code",
   "execution_count": 81,
   "metadata": {},
   "outputs": [],
   "source": [
    "def jsonl2df(path):\n",
    "    with open(path) as fh:\n",
    "        lines = fh.read().splitlines()\n",
    "\n",
    "    df_inter = pd.DataFrame(lines)\n",
    "    df_inter.columns = ['json_element']\n",
    "\n",
    "\n",
    "    df_inter['json_element'].apply(json.loads)\n",
    "\n",
    "    return pd.json_normalize(df_inter['json_element'].apply(json.loads))\n",
    "\n",
    "artists = jsonl2df(\"datav2/artists.jsonl\")\n",
    "tracks = jsonl2df(\"datav2/tracks.jsonl\")"
   ]
  },
  {
   "cell_type": "code",
   "execution_count": 82,
   "metadata": {},
   "outputs": [],
   "source": [
    "# Choose data from ranking\n",
    "\n",
    "# result = ['ranking', 'list', ...]\n",
    "\n",
    "# tracks[tracks['id'].isin(result)]"
   ]
  },
  {
   "cell_type": "code",
   "execution_count": 83,
   "metadata": {},
   "outputs": [],
   "source": [
    "# Join tracks with artists\n",
    "begin_prepared_data = pd.merge(tracks,artists, left_on=\"id_artist\", right_on=\"id\")\n",
    "\n",
    "# Remove rows with empty values\n",
    "begin_prepared_data = begin_prepared_data.dropna()\n",
    "begin_prepared_data = begin_prepared_data.drop(columns=[\"name_x\", \"popularity\", \"id_y\", \"name_y\"])\n",
    "\n",
    "prepared_data = begin_prepared_data\n",
    "\n",
    "# Convert dates to number of days from earliest track\n",
    "prepared_data[\"release_date\"] = pd.to_datetime(prepared_data[\"release_date\"], format = \"mixed\")\n",
    "min_date = prepared_data['release_date'].min()\n",
    "prepared_data['release_date'] = (prepared_data['release_date'] - min_date).dt.days\n",
    "\n",
    "# Scale the attributes to [0, 1]\n",
    "without = ['id_x', 'duration_ms', 'id_artist', 'genres']\n",
    "scaled_columns = list(set(prepared_data.columns).difference(without))\n",
    "prepared_data[scaled_columns] = MinMaxScaler().fit_transform(prepared_data[scaled_columns])\n",
    "\n",
    "# One-hot encoding of genres\n",
    "genres_en = pd.get_dummies(prepared_data['genres'].apply(pd.Series).stack()).groupby(level=0).sum()\n",
    "prepared_data = pd.concat([prepared_data, genres_en], axis=1)\n",
    "\n",
    "# One-hot encoding of artists\n",
    "artists_en = pd.get_dummies(prepared_data['id_artist']).groupby(level=0).sum()\n",
    "prepared_data = pd.concat([prepared_data, artists_en], axis=1)\n",
    "\n",
    "prepared_data = prepared_data.drop(columns=['id_artist', 'genres'])"
   ]
  },
  {
   "cell_type": "markdown",
   "metadata": {},
   "source": [
    "TODO\n",
    "- Selekcja atrybutów\n",
    "- Może ograniczyć gatunki i autorów sprawdzając czy występują minimalna liczbę razy, [Infrequent categories sklearn](https://scikit-learn.org/stable/modules/preprocessing.html#infrequent-categories)"
   ]
  },
  {
   "cell_type": "code",
   "execution_count": 84,
   "metadata": {},
   "outputs": [],
   "source": [
    "TIME_LIMIT = 3600000"
   ]
  },
  {
   "cell_type": "markdown",
   "metadata": {},
   "source": [
    "# Model podstawowy\n",
    "\n",
    "- mieszamy kolejność dataframe\n",
    "- dokładamy do obecnej grupy kolejne utwory dopóki ich suma nie przekroczy godziny i następnie przechodzimy do następnej\n",
    "- jeżeli ostatnia grupa ma mniej niż godzinę to ją rozdzielamy pomiędzy pozostałe"
   ]
  },
  {
   "cell_type": "code",
   "execution_count": 85,
   "metadata": {},
   "outputs": [],
   "source": [
    "def base_model(data: pd.DataFrame) -> pd.DataFrame:     # [track_id, group]\n",
    "    track_times = data[['id_x', 'duration_ms']]\n",
    "\n",
    "    # mieszanie wierszy\n",
    "    track_times.sample(frac=1).reset_index(drop=True)\n",
    "    current_group = 0\n",
    "    group_sum = 0\n",
    "\n",
    "    result = []\n",
    "\n",
    "    for index, row in track_times.iterrows():\n",
    "        result.append((row['id_x'], current_group))\n",
    "        group_sum += row['duration_ms']\n",
    "        if group_sum >= TIME_LIMIT:        # godzina\n",
    "            group_sum = 0\n",
    "            current_group += 1\n",
    "\n",
    "    # ostatnia grupa mniej niż godzina\n",
    "    if group_sum < TIME_LIMIT:\n",
    "        for i in range(len(result)):\n",
    "            if result[-1-i][1] == current_group:\n",
    "                result[-1-i] = (result[-1-i][0], randint(0,current_group-1))\n",
    "            else:\n",
    "                break\n",
    "\n",
    "    result_df = pd.DataFrame(result, columns=['id', 'group'])\n",
    "    return result_df"
   ]
  },
  {
   "cell_type": "markdown",
   "metadata": {},
   "source": [
    "# Model zaawansowany\n",
    "\n",
    "- korzystamy z algorytmu agglomerative clustering z biblioteki scipy [początkowo chcieliśmy korzystać z biblioteki sklearn ale niestety dopasowywanie grup do danych nie działało poprawnie]\n",
    "- na początku każdy utwór ma przypisany unikalną grupę oraz otrzymujemy które kolejne klastry mają być łaczone\n",
    "- łączymy kolejne klastry dopóki wszystkie klastry nie posiadają sumy długości utworów równej co najmniej godzinę\n",
    "- na końcu jeżeli któraś grupa nie ma więcej niż godziny utworów to jej nie zwracamy"
   ]
  },
  {
   "cell_type": "code",
   "execution_count": 86,
   "metadata": {},
   "outputs": [],
   "source": [
    "def check_less(data, min_duration=TIME_LIMIT):\n",
    "    result = []\n",
    "    for group in data['group'].unique():\n",
    "        group_data = data[data['group'] == group]\n",
    "        if group_data['duration_ms'].sum() < min_duration:\n",
    "            result.append(group)\n",
    "    return result"
   ]
  },
  {
   "cell_type": "code",
   "execution_count": 87,
   "metadata": {},
   "outputs": [],
   "source": [
    "def check_all_more_than_hour(data: pd.DataFrame) -> bool:\n",
    "    return all(data.groupby(by=['group'])['duration_ms'].sum() > TIME_LIMIT)"
   ]
  },
  {
   "cell_type": "code",
   "execution_count": 88,
   "metadata": {},
   "outputs": [],
   "source": [
    "# Sklearn\n",
    "\n",
    "# def merge_clusters(data: pd.DataFrame) -> pd.DataFrame:\n",
    "#     params = data.drop(columns=['duration_ms', 'id_x'])\n",
    "#     clustering = AgglomerativeClustering(n_clusters=None, distance_threshold=0).fit(params)\n",
    "\n",
    "#     data['group'] = clustering.labels_\n",
    "\n",
    "#     n_samples = data.shape[0]\n",
    "\n",
    "#     # sprawdzać też czy nie przekroczy dystansu\n",
    "#     for i, (cluster1, cluster2) in enumerate(clustering.children_): # children zawiera listę krotek które klastry się łączą\n",
    "#         data.loc[data['group'] == cluster1, 'group'] = n_samples + i\n",
    "#         data.loc[data['group'] == cluster2, 'group'] = n_samples + i\n",
    "#         if check_all_more_than_hour(data):\n",
    "#             break\n",
    "#     return data"
   ]
  },
  {
   "cell_type": "code",
   "execution_count": 89,
   "metadata": {},
   "outputs": [],
   "source": [
    "def merge_clusters(data):\n",
    "    params = data.drop(columns=['duration_ms', 'id_x'])\n",
    "    clustering = linkage(params, method='ward')\n",
    "\n",
    "    n_samples = data.shape[0]\n",
    "    data['group'] = range(n_samples)\n",
    "\n",
    "    for i, (cluster1, cluster2, _, _) in enumerate(clustering):\n",
    "        data.loc[data['group'] == cluster1, 'group'] = n_samples + i\n",
    "        data.loc[data['group'] == cluster2, 'group'] = n_samples + i\n",
    "        if check_all_more_than_hour(data):\n",
    "            break\n",
    "\n",
    "    return data"
   ]
  },
  {
   "cell_type": "code",
   "execution_count": 90,
   "metadata": {},
   "outputs": [],
   "source": [
    "def advanced_model(data: pd.DataFrame) -> pd.DataFrame:     # [track_id, group]\n",
    "    result = merge_clusters(data)\n",
    "\n",
    "    less_hour = check_less(result)\n",
    "\n",
    "    result = data[~data['group'].isin(less_hour)]\n",
    "\n",
    "    return result[['id_x', 'group']]"
   ]
  },
  {
   "cell_type": "markdown",
   "metadata": {},
   "source": [
    "TODO\n",
    "- ustawienie distance_threshold lub innego warunku przerwania"
   ]
  },
  {
   "cell_type": "markdown",
   "metadata": {},
   "source": [
    "# TESTOWANIE"
   ]
  },
  {
   "cell_type": "code",
   "execution_count": 91,
   "metadata": {},
   "outputs": [],
   "source": [
    "import numpy as np\n",
    "from scipy.cluster.hierarchy import dendrogram\n",
    "\n",
    "def plot_dendrogram(model, **kwargs):\n",
    "    counts = np.zeros(model.children_.shape[0])\n",
    "    n_samples = len(model.labels_)\n",
    "    for i, merge in enumerate(model.children_):\n",
    "        current_count = 0\n",
    "        for child_idx in merge:\n",
    "            if child_idx < n_samples:\n",
    "                current_count += 1\n",
    "            else:\n",
    "                current_count += counts[child_idx - n_samples]\n",
    "        counts[i] = current_count\n",
    "\n",
    "    linkage_matrix = np.column_stack(\n",
    "        [model.children_, model.distances_, counts]\n",
    "    ).astype(float)\n",
    "\n",
    "    dendrogram(linkage_matrix, **kwargs)"
   ]
  },
  {
   "cell_type": "code",
   "execution_count": 92,
   "metadata": {},
   "outputs": [],
   "source": [
    "from sklearn.decomposition import PCA\n",
    "from matplotlib import pyplot as plt\n",
    "\n",
    "\n",
    "def pca_scatter(model, labels, title):\n",
    "    pca = PCA(n_components=2)\n",
    "    X_pca = pca.fit_transform(model)\n",
    "    plt.scatter(X_pca[:, 0], X_pca[:, 1], c=labels, cmap='viridis')\n",
    "    plt.title(title)\n",
    "    plt.show()"
   ]
  },
  {
   "cell_type": "code",
   "execution_count": 93,
   "metadata": {},
   "outputs": [],
   "source": [
    "test = prepared_data[:100]\n",
    "params = test.drop(columns=['id_x', 'duration_ms'])"
   ]
  },
  {
   "cell_type": "code",
   "execution_count": 114,
   "metadata": {},
   "outputs": [
    {
     "data": {
      "image/png": "[encoded data removed]",
      "text/plain": [
       "<Figure size 640x480 with 1 Axes>"
      ]
     },
     "metadata": {},
     "output_type": "display_data"
    }
   ],
   "source": [
    "clustering = AgglomerativeClustering(distance_threshold=0, n_clusters=None).fit(params)\n",
    "\n",
    "plot_dendrogram(clustering, truncate_mode=\"level\", p=4)"
   ]
  },
  {
   "cell_type": "code",
   "execution_count": 95,
   "metadata": {},
   "outputs": [
    {
     "data": {
      "image/png": "[encoded data removed]",
      "text/plain": [
       "<Figure size 640x480 with 1 Axes>"
      ]
     },
     "metadata": {},
     "output_type": "display_data"
    }
   ],
   "source": [
    "clustering = AgglomerativeClustering(n_clusters=3).fit(params)\n",
    "labels = clustering.labels_\n",
    "pca_scatter(params, labels, 'Constant number of clusters')"
   ]
  },
  {
   "cell_type": "code",
   "execution_count": 96,
   "metadata": {},
   "outputs": [
    {
     "data": {
      "text/plain": [
       "(array([0, 1, 2]), array([51, 25, 24]))"
      ]
     },
     "execution_count": 96,
     "metadata": {},
     "output_type": "execute_result"
    }
   ],
   "source": [
    "np.unique(labels, return_counts=True)"
   ]
  },
  {
   "cell_type": "code",
   "execution_count": 97,
   "metadata": {},
   "outputs": [
    {
     "data": {
      "image/png": "[encoded data removed]",
      "text/plain": [
       "<Figure size 640x480 with 1 Axes>"
      ]
     },
     "metadata": {},
     "output_type": "display_data"
    }
   ],
   "source": [
    "base = base_model(test)\n",
    "\n",
    "labels = base['group']\n",
    "pca_scatter(params, labels, 'Base model')"
   ]
  },
  {
   "cell_type": "code",
   "execution_count": 98,
   "metadata": {},
   "outputs": [
    {
     "data": {
      "text/plain": [
       "(array([0, 1, 2, 3]), array([23, 25, 25, 27]))"
      ]
     },
     "execution_count": 98,
     "metadata": {},
     "output_type": "execute_result"
    }
   ],
   "source": [
    "np.unique(labels, return_counts=True)"
   ]
  },
  {
   "cell_type": "code",
   "execution_count": 99,
   "metadata": {},
   "outputs": [],
   "source": [
    "group_id = labels[0]\n",
    "result = base[base['group'] == group_id]['id']\n",
    "first_group_base = begin_prepared_data[begin_prepared_data['id_x'].isin(result)]"
   ]
  },
  {
   "cell_type": "code",
   "execution_count": 100,
   "metadata": {},
   "outputs": [
    {
     "data": {
      "text/plain": [
       "1.272385"
      ]
     },
     "execution_count": 100,
     "metadata": {},
     "output_type": "execute_result"
    }
   ],
   "source": [
    "first_group_base['duration_ms'].sum() / 1000 / 60 / 60"
   ]
  },
  {
   "cell_type": "code",
   "execution_count": 101,
   "metadata": {},
   "outputs": [
    {
     "data": {
      "text/html": [
       "<div>\n",
       "<style scoped>\n",
       "    .dataframe tbody tr th:only-of-type {\n",
       "        vertical-align: middle;\n",
       "    }\n",
       "\n",
       "    .dataframe tbody tr th {\n",
       "        vertical-align: top;\n",
       "    }\n",
       "\n",
       "    .dataframe thead th {\n",
       "        text-align: right;\n",
       "    }\n",
       "</style>\n",
       "<table border=\"1\" class=\"dataframe\">\n",
       "  <thead>\n",
       "    <tr style=\"text-align: right;\">\n",
       "      <th></th>\n",
       "      <th>duration_ms</th>\n",
       "      <th>explicit</th>\n",
       "      <th>release_date</th>\n",
       "      <th>danceability</th>\n",
       "      <th>energy</th>\n",
       "      <th>key</th>\n",
       "      <th>loudness</th>\n",
       "      <th>speechiness</th>\n",
       "      <th>acousticness</th>\n",
       "      <th>instrumentalness</th>\n",
       "      <th>liveness</th>\n",
       "      <th>valence</th>\n",
       "      <th>tempo</th>\n",
       "    </tr>\n",
       "  </thead>\n",
       "  <tbody>\n",
       "    <tr>\n",
       "      <th>count</th>\n",
       "      <td>23.000000</td>\n",
       "      <td>23.0</td>\n",
       "      <td>23.000000</td>\n",
       "      <td>23.000000</td>\n",
       "      <td>23.000000</td>\n",
       "      <td>23.000000</td>\n",
       "      <td>23.000000</td>\n",
       "      <td>23.000000</td>\n",
       "      <td>23.000000</td>\n",
       "      <td>23.000000</td>\n",
       "      <td>23.000000</td>\n",
       "      <td>23.000000</td>\n",
       "      <td>23.000000</td>\n",
       "    </tr>\n",
       "    <tr>\n",
       "      <th>mean</th>\n",
       "      <td>199155.913043</td>\n",
       "      <td>0.0</td>\n",
       "      <td>0.264865</td>\n",
       "      <td>0.416105</td>\n",
       "      <td>0.239322</td>\n",
       "      <td>0.525692</td>\n",
       "      <td>0.662988</td>\n",
       "      <td>0.043317</td>\n",
       "      <td>0.802863</td>\n",
       "      <td>0.031700</td>\n",
       "      <td>0.178680</td>\n",
       "      <td>0.379827</td>\n",
       "      <td>0.455650</td>\n",
       "    </tr>\n",
       "    <tr>\n",
       "      <th>std</th>\n",
       "      <td>75849.505387</td>\n",
       "      <td>0.0</td>\n",
       "      <td>0.088287</td>\n",
       "      <td>0.166935</td>\n",
       "      <td>0.165880</td>\n",
       "      <td>0.352043</td>\n",
       "      <td>0.091123</td>\n",
       "      <td>0.010937</td>\n",
       "      <td>0.219530</td>\n",
       "      <td>0.107826</td>\n",
       "      <td>0.154547</td>\n",
       "      <td>0.251480</td>\n",
       "      <td>0.091185</td>\n",
       "    </tr>\n",
       "    <tr>\n",
       "      <th>min</th>\n",
       "      <td>117560.000000</td>\n",
       "      <td>0.0</td>\n",
       "      <td>0.000000</td>\n",
       "      <td>0.184694</td>\n",
       "      <td>0.054557</td>\n",
       "      <td>0.000000</td>\n",
       "      <td>0.479024</td>\n",
       "      <td>0.028072</td>\n",
       "      <td>0.184738</td>\n",
       "      <td>0.000000</td>\n",
       "      <td>0.078376</td>\n",
       "      <td>0.074067</td>\n",
       "      <td>0.278002</td>\n",
       "    </tr>\n",
       "    <tr>\n",
       "      <th>25%</th>\n",
       "      <td>162526.500000</td>\n",
       "      <td>0.0</td>\n",
       "      <td>0.235090</td>\n",
       "      <td>0.279082</td>\n",
       "      <td>0.107015</td>\n",
       "      <td>0.181818</td>\n",
       "      <td>0.603159</td>\n",
       "      <td>0.035699</td>\n",
       "      <td>0.680722</td>\n",
       "      <td>0.000000</td>\n",
       "      <td>0.097970</td>\n",
       "      <td>0.184662</td>\n",
       "      <td>0.397871</td>\n",
       "    </tr>\n",
       "    <tr>\n",
       "      <th>50%</th>\n",
       "      <td>186173.000000</td>\n",
       "      <td>0.0</td>\n",
       "      <td>0.292594</td>\n",
       "      <td>0.427551</td>\n",
       "      <td>0.198116</td>\n",
       "      <td>0.636364</td>\n",
       "      <td>0.673089</td>\n",
       "      <td>0.038877</td>\n",
       "      <td>0.886546</td>\n",
       "      <td>0.000005</td>\n",
       "      <td>0.124873</td>\n",
       "      <td>0.314834</td>\n",
       "      <td>0.443818</td>\n",
       "    </tr>\n",
       "    <tr>\n",
       "      <th>75%</th>\n",
       "      <td>200520.000000</td>\n",
       "      <td>0.0</td>\n",
       "      <td>0.295027</td>\n",
       "      <td>0.570408</td>\n",
       "      <td>0.320751</td>\n",
       "      <td>0.818182</td>\n",
       "      <td>0.721555</td>\n",
       "      <td>0.047775</td>\n",
       "      <td>0.952309</td>\n",
       "      <td>0.000171</td>\n",
       "      <td>0.175127</td>\n",
       "      <td>0.538345</td>\n",
       "      <td>0.520641</td>\n",
       "    </tr>\n",
       "    <tr>\n",
       "      <th>max</th>\n",
       "      <td>423493.000000</td>\n",
       "      <td>0.0</td>\n",
       "      <td>0.376120</td>\n",
       "      <td>0.686735</td>\n",
       "      <td>0.660626</td>\n",
       "      <td>1.000000</td>\n",
       "      <td>0.814703</td>\n",
       "      <td>0.073835</td>\n",
       "      <td>0.993976</td>\n",
       "      <td>0.449900</td>\n",
       "      <td>0.787817</td>\n",
       "      <td>0.970737</td>\n",
       "      <td>0.589748</td>\n",
       "    </tr>\n",
       "  </tbody>\n",
       "</table>\n",
       "</div>"
      ],
      "text/plain": [
       "         duration_ms  explicit  release_date  danceability     energy  \\\n",
       "count      23.000000      23.0     23.000000     23.000000  23.000000   \n",
       "mean   199155.913043       0.0      0.264865      0.416105   0.239322   \n",
       "std     75849.505387       0.0      0.088287      0.166935   0.165880   \n",
       "min    117560.000000       0.0      0.000000      0.184694   0.054557   \n",
       "25%    162526.500000       0.0      0.235090      0.279082   0.107015   \n",
       "50%    186173.000000       0.0      0.292594      0.427551   0.198116   \n",
       "75%    200520.000000       0.0      0.295027      0.570408   0.320751   \n",
       "max    423493.000000       0.0      0.376120      0.686735   0.660626   \n",
       "\n",
       "             key   loudness  speechiness  acousticness  instrumentalness  \\\n",
       "count  23.000000  23.000000    23.000000     23.000000         23.000000   \n",
       "mean    0.525692   0.662988     0.043317      0.802863          0.031700   \n",
       "std     0.352043   0.091123     0.010937      0.219530          0.107826   \n",
       "min     0.000000   0.479024     0.028072      0.184738          0.000000   \n",
       "25%     0.181818   0.603159     0.035699      0.680722          0.000000   \n",
       "50%     0.636364   0.673089     0.038877      0.886546          0.000005   \n",
       "75%     0.818182   0.721555     0.047775      0.952309          0.000171   \n",
       "max     1.000000   0.814703     0.073835      0.993976          0.449900   \n",
       "\n",
       "        liveness    valence      tempo  \n",
       "count  23.000000  23.000000  23.000000  \n",
       "mean    0.178680   0.379827   0.455650  \n",
       "std     0.154547   0.251480   0.091185  \n",
       "min     0.078376   0.074067   0.278002  \n",
       "25%     0.097970   0.184662   0.397871  \n",
       "50%     0.124873   0.314834   0.443818  \n",
       "75%     0.175127   0.538345   0.520641  \n",
       "max     0.787817   0.970737   0.589748  "
      ]
     },
     "execution_count": 101,
     "metadata": {},
     "output_type": "execute_result"
    }
   ],
   "source": [
    "first_group_base.describe()"
   ]
  },
  {
   "cell_type": "code",
   "execution_count": 102,
   "metadata": {},
   "outputs": [
    {
     "data": {
      "text/plain": [
       "id_artist\n",
       "1Mxqyy3pSjf8kZZL4QVxS0    9\n",
       "5V0MlUE1Bft0mbLlND7FJz    6\n",
       "43ZHCT0cAZBISjO8DG9PnE    3\n",
       "74ASZWbe4lXaubB36ztrGX    2\n",
       "19eLuQmk9aCobbVDHc6eek    1\n",
       "3oDbviiivRWhXwIE8hxkVV    1\n",
       "6hnWRPzGGKiapVX1UCdEAC    1\n",
       "Name: count, dtype: int64"
      ]
     },
     "execution_count": 102,
     "metadata": {},
     "output_type": "execute_result"
    }
   ],
   "source": [
    "artists_base = first_group_base['id_artist'].value_counts()\n",
    "artists_base"
   ]
  },
  {
   "cell_type": "code",
   "execution_count": 103,
   "metadata": {},
   "outputs": [
    {
     "data": {
      "text/plain": [
       "genres\n",
       "adult standards       20\n",
       "easy listening         9\n",
       "lounge                 9\n",
       "swing                  7\n",
       "vocal jazz             7\n",
       "jazz blues             6\n",
       "rock-and-roll          4\n",
       "folk rock              3\n",
       "classic rock           3\n",
       "rockabilly             3\n",
       "rock                   3\n",
       "mellow gold            2\n",
       "roots rock             2\n",
       "singer-songwriter      2\n",
       "brill building pop     2\n",
       "soul                   2\n",
       "album rock             2\n",
       "folk                   2\n",
       "country rock           2\n",
       "new orleans jazz       1\n",
       "jazz trumpet           1\n",
       "dixieland              1\n",
       "harlem renaissance     1\n",
       "baroque pop            1\n",
       "psychedelic rock       1\n",
       "sunshine pop           1\n",
       "classic soul           1\n",
       "Name: count, dtype: int64"
      ]
     },
     "execution_count": 103,
     "metadata": {},
     "output_type": "execute_result"
    }
   ],
   "source": [
    "genres_base = first_group_base['genres'].explode().value_counts()\n",
    "genres_base"
   ]
  },
  {
   "cell_type": "code",
   "execution_count": 104,
   "metadata": {},
   "outputs": [
    {
     "name": "stderr",
     "output_type": "stream",
     "text": [
      "/tmp/ipykernel_12455/4201131422.py:6: SettingWithCopyWarning: \n",
      "A value is trying to be set on a copy of a slice from a DataFrame.\n",
      "Try using .loc[row_indexer,col_indexer] = value instead\n",
      "\n",
      "See the caveats in the documentation: https://pandas.pydata.org/pandas-docs/stable/user_guide/indexing.html#returning-a-view-versus-a-copy\n",
      "  data['group'] = range(n_samples)\n"
     ]
    },
    {
     "data": {
      "image/png": "[encoded data removed]",
      "text/plain": [
       "<Figure size 640x480 with 1 Axes>"
      ]
     },
     "metadata": {},
     "output_type": "display_data"
    }
   ],
   "source": [
    "advanced = advanced_model(test)\n",
    "labels = advanced['group']\n",
    "params_dropped = test[test['id_x'].isin(advanced['id_x'])].drop(columns=['id_x', 'duration_ms'])\n",
    "pca_scatter(params, np.array(labels), 'Advanced model')"
   ]
  },
  {
   "cell_type": "code",
   "execution_count": 105,
   "metadata": {},
   "outputs": [
    {
     "data": {
      "text/plain": [
       "(array([188, 192, 194, 195]), array([24, 19, 32, 25]))"
      ]
     },
     "execution_count": 105,
     "metadata": {},
     "output_type": "execute_result"
    }
   ],
   "source": [
    "np.unique(labels, return_counts=True)"
   ]
  },
  {
   "cell_type": "markdown",
   "metadata": {},
   "source": [
    "Sprawdzenie czy dane w grupie są podobne"
   ]
  },
  {
   "cell_type": "code",
   "execution_count": 106,
   "metadata": {},
   "outputs": [],
   "source": [
    "group_id = labels[0]\n",
    "result = advanced[advanced['group'] == group_id]['id_x']\n",
    "first_group_adv = begin_prepared_data[begin_prepared_data['id_x'].isin(result)]"
   ]
  },
  {
   "cell_type": "code",
   "execution_count": 107,
   "metadata": {},
   "outputs": [
    {
     "data": {
      "text/plain": [
       "1.0773308333333333"
      ]
     },
     "execution_count": 107,
     "metadata": {},
     "output_type": "execute_result"
    }
   ],
   "source": [
    "first_group_adv['duration_ms'].sum() / 1000 / 60 / 60"
   ]
  },
  {
   "cell_type": "code",
   "execution_count": 108,
   "metadata": {},
   "outputs": [
    {
     "data": {
      "text/html": [
       "<div>\n",
       "<style scoped>\n",
       "    .dataframe tbody tr th:only-of-type {\n",
       "        vertical-align: middle;\n",
       "    }\n",
       "\n",
       "    .dataframe tbody tr th {\n",
       "        vertical-align: top;\n",
       "    }\n",
       "\n",
       "    .dataframe thead th {\n",
       "        text-align: right;\n",
       "    }\n",
       "</style>\n",
       "<table border=\"1\" class=\"dataframe\">\n",
       "  <thead>\n",
       "    <tr style=\"text-align: right;\">\n",
       "      <th></th>\n",
       "      <th>duration_ms</th>\n",
       "      <th>explicit</th>\n",
       "      <th>release_date</th>\n",
       "      <th>danceability</th>\n",
       "      <th>energy</th>\n",
       "      <th>key</th>\n",
       "      <th>loudness</th>\n",
       "      <th>speechiness</th>\n",
       "      <th>acousticness</th>\n",
       "      <th>instrumentalness</th>\n",
       "      <th>liveness</th>\n",
       "      <th>valence</th>\n",
       "      <th>tempo</th>\n",
       "    </tr>\n",
       "  </thead>\n",
       "  <tbody>\n",
       "    <tr>\n",
       "      <th>count</th>\n",
       "      <td>19.000000</td>\n",
       "      <td>19.0</td>\n",
       "      <td>19.000000</td>\n",
       "      <td>19.000000</td>\n",
       "      <td>19.000000</td>\n",
       "      <td>19.000000</td>\n",
       "      <td>19.000000</td>\n",
       "      <td>19.000000</td>\n",
       "      <td>19.000000</td>\n",
       "      <td>19.000000</td>\n",
       "      <td>19.000000</td>\n",
       "      <td>19.000000</td>\n",
       "      <td>19.000000</td>\n",
       "    </tr>\n",
       "    <tr>\n",
       "      <th>mean</th>\n",
       "      <td>204125.842105</td>\n",
       "      <td>0.0</td>\n",
       "      <td>0.296806</td>\n",
       "      <td>0.487487</td>\n",
       "      <td>0.303258</td>\n",
       "      <td>0.459330</td>\n",
       "      <td>0.730194</td>\n",
       "      <td>0.051712</td>\n",
       "      <td>0.804322</td>\n",
       "      <td>0.000737</td>\n",
       "      <td>0.213545</td>\n",
       "      <td>0.454352</td>\n",
       "      <td>0.436588</td>\n",
       "    </tr>\n",
       "    <tr>\n",
       "      <th>std</th>\n",
       "      <td>61854.192487</td>\n",
       "      <td>0.0</td>\n",
       "      <td>0.079717</td>\n",
       "      <td>0.194065</td>\n",
       "      <td>0.156886</td>\n",
       "      <td>0.302232</td>\n",
       "      <td>0.082604</td>\n",
       "      <td>0.029639</td>\n",
       "      <td>0.140605</td>\n",
       "      <td>0.003050</td>\n",
       "      <td>0.145269</td>\n",
       "      <td>0.225507</td>\n",
       "      <td>0.145538</td>\n",
       "    </tr>\n",
       "    <tr>\n",
       "      <th>min</th>\n",
       "      <td>107280.000000</td>\n",
       "      <td>0.0</td>\n",
       "      <td>0.000000</td>\n",
       "      <td>0.187755</td>\n",
       "      <td>0.049351</td>\n",
       "      <td>0.000000</td>\n",
       "      <td>0.516137</td>\n",
       "      <td>0.028178</td>\n",
       "      <td>0.549196</td>\n",
       "      <td>0.000000</td>\n",
       "      <td>0.075939</td>\n",
       "      <td>0.144299</td>\n",
       "      <td>0.278002</td>\n",
       "    </tr>\n",
       "    <tr>\n",
       "      <th>25%</th>\n",
       "      <td>177047.000000</td>\n",
       "      <td>0.0</td>\n",
       "      <td>0.292594</td>\n",
       "      <td>0.356122</td>\n",
       "      <td>0.217637</td>\n",
       "      <td>0.227273</td>\n",
       "      <td>0.672478</td>\n",
       "      <td>0.032097</td>\n",
       "      <td>0.710843</td>\n",
       "      <td>0.000000</td>\n",
       "      <td>0.089797</td>\n",
       "      <td>0.262866</td>\n",
       "      <td>0.352326</td>\n",
       "    </tr>\n",
       "    <tr>\n",
       "      <th>50%</th>\n",
       "      <td>196133.000000</td>\n",
       "      <td>0.0</td>\n",
       "      <td>0.319447</td>\n",
       "      <td>0.464286</td>\n",
       "      <td>0.285212</td>\n",
       "      <td>0.454545</td>\n",
       "      <td>0.758790</td>\n",
       "      <td>0.036547</td>\n",
       "      <td>0.832329</td>\n",
       "      <td>0.000002</td>\n",
       "      <td>0.156345</td>\n",
       "      <td>0.428860</td>\n",
       "      <td>0.397230</td>\n",
       "    </tr>\n",
       "    <tr>\n",
       "      <th>75%</th>\n",
       "      <td>219987.000000</td>\n",
       "      <td>0.0</td>\n",
       "      <td>0.335944</td>\n",
       "      <td>0.663776</td>\n",
       "      <td>0.377313</td>\n",
       "      <td>0.636364</td>\n",
       "      <td>0.794748</td>\n",
       "      <td>0.066790</td>\n",
       "      <td>0.913654</td>\n",
       "      <td>0.000042</td>\n",
       "      <td>0.332995</td>\n",
       "      <td>0.634712</td>\n",
       "      <td>0.467628</td>\n",
       "    </tr>\n",
       "    <tr>\n",
       "      <th>max</th>\n",
       "      <td>423493.000000</td>\n",
       "      <td>0.0</td>\n",
       "      <td>0.374904</td>\n",
       "      <td>0.769388</td>\n",
       "      <td>0.585543</td>\n",
       "      <td>0.909091</td>\n",
       "      <td>0.835324</td>\n",
       "      <td>0.130297</td>\n",
       "      <td>0.993976</td>\n",
       "      <td>0.013327</td>\n",
       "      <td>0.522843</td>\n",
       "      <td>0.808274</td>\n",
       "      <td>0.791353</td>\n",
       "    </tr>\n",
       "  </tbody>\n",
       "</table>\n",
       "</div>"
      ],
      "text/plain": [
       "         duration_ms  explicit  release_date  danceability     energy  \\\n",
       "count      19.000000      19.0     19.000000     19.000000  19.000000   \n",
       "mean   204125.842105       0.0      0.296806      0.487487   0.303258   \n",
       "std     61854.192487       0.0      0.079717      0.194065   0.156886   \n",
       "min    107280.000000       0.0      0.000000      0.187755   0.049351   \n",
       "25%    177047.000000       0.0      0.292594      0.356122   0.217637   \n",
       "50%    196133.000000       0.0      0.319447      0.464286   0.285212   \n",
       "75%    219987.000000       0.0      0.335944      0.663776   0.377313   \n",
       "max    423493.000000       0.0      0.374904      0.769388   0.585543   \n",
       "\n",
       "             key   loudness  speechiness  acousticness  instrumentalness  \\\n",
       "count  19.000000  19.000000    19.000000     19.000000         19.000000   \n",
       "mean    0.459330   0.730194     0.051712      0.804322          0.000737   \n",
       "std     0.302232   0.082604     0.029639      0.140605          0.003050   \n",
       "min     0.000000   0.516137     0.028178      0.549196          0.000000   \n",
       "25%     0.227273   0.672478     0.032097      0.710843          0.000000   \n",
       "50%     0.454545   0.758790     0.036547      0.832329          0.000002   \n",
       "75%     0.636364   0.794748     0.066790      0.913654          0.000042   \n",
       "max     0.909091   0.835324     0.130297      0.993976          0.013327   \n",
       "\n",
       "        liveness    valence      tempo  \n",
       "count  19.000000  19.000000  19.000000  \n",
       "mean    0.213545   0.454352   0.436588  \n",
       "std     0.145269   0.225507   0.145538  \n",
       "min     0.075939   0.144299   0.278002  \n",
       "25%     0.089797   0.262866   0.352326  \n",
       "50%     0.156345   0.428860   0.397230  \n",
       "75%     0.332995   0.634712   0.467628  \n",
       "max     0.522843   0.808274   0.791353  "
      ]
     },
     "execution_count": 108,
     "metadata": {},
     "output_type": "execute_result"
    }
   ],
   "source": [
    "first_group_adv.describe()"
   ]
  },
  {
   "cell_type": "code",
   "execution_count": 109,
   "metadata": {},
   "outputs": [
    {
     "data": {
      "text/plain": [
       "id_artist\n",
       "5V0MlUE1Bft0mbLlND7FJz    7\n",
       "0iOVhN3tnSvgDbcg25JoJb    6\n",
       "6kACVPfCOnqzgfEF5ryl0x    3\n",
       "7G1GBhoKtEPnP86X2PvEYO    2\n",
       "19eLuQmk9aCobbVDHc6eek    1\n",
       "Name: count, dtype: int64"
      ]
     },
     "execution_count": 109,
     "metadata": {},
     "output_type": "execute_result"
    }
   ],
   "source": [
    "artists_adv = first_group_adv['id_artist'].value_counts()\n",
    "artists_adv"
   ]
  },
  {
   "cell_type": "code",
   "execution_count": 110,
   "metadata": {},
   "outputs": [
    {
     "data": {
      "text/plain": [
       "genres\n",
       "adult standards       16\n",
       "vocal jazz            16\n",
       "jazz blues            15\n",
       "soul                   9\n",
       "torch song             8\n",
       "swing                  8\n",
       "soul blues             6\n",
       "arkansas country       3\n",
       "outlaw country         3\n",
       "soul jazz              2\n",
       "new orleans jazz       1\n",
       "jazz trumpet           1\n",
       "harlem renaissance     1\n",
       "dixieland              1\n",
       "Name: count, dtype: int64"
      ]
     },
     "execution_count": 110,
     "metadata": {},
     "output_type": "execute_result"
    }
   ],
   "source": [
    "genres_adv = first_group_adv['genres'].explode().value_counts()\n",
    "genres_adv"
   ]
  },
  {
   "cell_type": "markdown",
   "metadata": {},
   "source": [
    "Sprawdzanie wariancji, tam gdzie mniejsza tam mniejsza różnica w grupie."
   ]
  },
  {
   "cell_type": "code",
   "execution_count": 111,
   "metadata": {},
   "outputs": [
    {
     "name": "stdout",
     "output_type": "stream",
     "text": [
      "explicit: same\n",
      "release_date: advanced\n",
      "danceability: base\n",
      "energy: advanced\n",
      "key: advanced\n",
      "loudness: advanced\n",
      "speechiness: base\n",
      "acousticness: advanced\n",
      "instrumentalness: advanced\n",
      "liveness: advanced\n",
      "valence: advanced\n",
      "tempo: base\n"
     ]
    }
   ],
   "source": [
    "columns = first_group_base.select_dtypes(include=['float']).columns\n",
    "\n",
    "for index, (b, a) in enumerate(zip(first_group_base.select_dtypes(include=['float']).var(), first_group_adv.select_dtypes(include=['float']).var())):\n",
    "    if b > a:\n",
    "        res = 'advanced'\n",
    "    elif b < a:\n",
    "        res = 'base'\n",
    "    else:\n",
    "        res = 'same'\n",
    "    print(f'{columns[index]}: {res}')\n"
   ]
  },
  {
   "cell_type": "code",
   "execution_count": 112,
   "metadata": {},
   "outputs": [
    {
     "name": "stdout",
     "output_type": "stream",
     "text": [
      "artists: advanced\n"
     ]
    }
   ],
   "source": [
    "res = 'artists: '\n",
    "b, a = len(artists_base), len(artists_adv)\n",
    "if b > a:\n",
    "    res += 'advanced'\n",
    "elif b < a:\n",
    "    res += 'base'\n",
    "else:\n",
    "    res += 'same'\n",
    "print(res)"
   ]
  },
  {
   "cell_type": "code",
   "execution_count": 113,
   "metadata": {},
   "outputs": [
    {
     "name": "stdout",
     "output_type": "stream",
     "text": [
      "genres: advanced\n"
     ]
    }
   ],
   "source": [
    "res = 'genres: '\n",
    "b, a = len(genres_base), len(genres_adv)\n",
    "if b > a:\n",
    "    res += 'advanced'\n",
    "elif b < a:\n",
    "    res += 'base'\n",
    "else:\n",
    "    res += 'same'\n",
    "print(res)"
   ]
  },
  {
   "cell_type": "markdown",
   "metadata": {},
   "source": [
    "# Wnioski \n",
    "Model zaawansowany tworzy bardziej jednorodne grupy. Ma on jednak na razie trochę wad.\n",
    "## Model zaawansowany:\n",
    "- tracimy część danych podczas ostatniego kroku bo nie będą one zwracane\n",
    "- powinniśmy ustawić dodatkowo distance_threshold aby algorytm nie łączył niepotrzebnie klastrów. Dobrze widoczne jest to na dendogramie, gdy mało liczna grupa, która jeszcze nie spełniła warunku czasowego ma wysoki dystans do kolejnego połączenia. Aktualnie tracimy przez to podobieństwo danych w danej grupie nie zyskując zarazem nowych prawidłowych grup."
   ]
  }
 ],
 "metadata": {
  "kernelspec": {
   "display_name": "Python 3",
   "language": "python",
   "name": "python3"
  },
  "language_info": {
   "codemirror_mode": {
    "name": "ipython",
    "version": 3
   },
   "file_extension": ".py",
   "mimetype": "text/x-python",
   "name": "python",
   "nbconvert_exporter": "python",
   "pygments_lexer": "ipython3",
   "version": "3.12.2"
  }
 },
 "nbformat": 4,
 "nbformat_minor": 2
}
