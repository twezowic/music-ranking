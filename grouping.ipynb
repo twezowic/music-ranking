{
 "cells": [
  {
   "cell_type": "code",
   "execution_count": 1,
   "metadata": {},
   "outputs": [],
   "source": [
    "import pandas as pd\n",
    "from sklearn.cluster import AgglomerativeClustering\n",
    "\n",
    "df = pd.read_csv(\"grouping.csv\")"
   ]
  },
  {
   "cell_type": "code",
   "execution_count": 2,
   "metadata": {},
   "outputs": [],
   "source": [
    "df = df.drop(columns=[\"id_x\", \"Unnamed: 0\", \"release_date\", 'genres'])"
   ]
  },
  {
   "cell_type": "code",
   "execution_count": 6,
   "metadata": {},
   "outputs": [],
   "source": [
    "test = df[:1000]\n",
    "clustering = AgglomerativeClustering(n_clusters=100).fit(test)"
   ]
  },
  {
   "cell_type": "code",
   "execution_count": 7,
   "metadata": {},
   "outputs": [
    {
     "data": {
      "text/plain": [
       "array([3, 3, 7, 3, 2, 7, 9, 7, 1, 9, 9, 7, 3, 7, 7, 2, 9, 3, 3, 9, 2, 7,\n",
       "       3, 7, 3, 7, 3, 2, 7, 7, 6, 7, 7, 3, 7, 7, 2, 2, 2, 2, 7, 7, 7, 7,\n",
       "       2, 7, 2, 2, 2, 2, 2, 2, 3, 2, 2, 2, 7, 7, 7, 7, 3, 2, 7, 2, 7, 7,\n",
       "       2, 2, 7, 7, 2, 3, 2, 2, 3, 2, 7, 2, 9, 2, 7, 9, 2, 2, 3, 7, 7, 3,\n",
       "       2, 5, 7, 7, 2, 2, 4, 6, 3, 2, 7, 2, 7, 7, 7, 3, 3, 2, 7, 2, 9, 2,\n",
       "       2, 3, 2, 7, 2, 2, 4, 3, 7, 7, 7, 3, 2, 7, 7, 2, 9, 9, 7, 7, 3, 2,\n",
       "       2, 7, 7, 2, 7, 2, 7, 2, 2, 7, 6, 2, 7, 3, 7, 7, 3, 9, 7, 2, 2, 2,\n",
       "       7, 7, 1, 2, 2, 6, 7, 3, 9, 7, 7, 4, 3, 3, 3, 2, 3, 6, 3, 3, 3, 5,\n",
       "       7, 4, 7, 7, 3, 2, 7, 5, 6, 9, 2, 7, 2, 3, 3, 2, 7, 7, 7, 2, 3, 7,\n",
       "       7, 7, 7, 7, 3, 7, 3, 7, 3, 3, 9, 2, 7, 9, 2, 2, 9, 8, 2, 2, 3, 7,\n",
       "       6, 4, 7, 3, 3, 2, 2, 3, 6, 6, 6, 7, 2, 6, 2, 2, 7, 3, 7, 1, 7, 6,\n",
       "       2, 7, 2, 7, 2, 7, 1, 7, 7, 2, 3, 2, 6, 2, 7, 6, 9, 2, 7, 3, 3, 2,\n",
       "       6, 3, 2, 4, 7, 6, 7, 4, 6, 7, 6, 7, 3, 7, 1, 3, 3, 7, 2, 3, 6, 8,\n",
       "       6, 8, 2, 3, 7, 9, 9, 2, 1, 3, 4, 9, 7, 3, 9, 6, 6, 2, 2, 6, 2, 7,\n",
       "       7, 3, 6, 2, 6, 7, 6, 2, 1, 8, 8, 3, 7, 7, 9, 8, 8, 8, 9, 7, 7, 2,\n",
       "       1, 3, 7, 1, 4, 6, 9, 9, 3, 7, 9, 3, 3, 6, 4, 9, 9, 6, 2, 7, 9, 6,\n",
       "       9, 7, 6, 6, 6, 9, 7, 6, 9, 6, 3, 7, 6, 9, 7, 9, 3, 1, 3, 3, 3, 6,\n",
       "       6, 3, 6, 3, 2, 3, 7, 9, 5, 4, 9, 4, 4, 7, 9, 9, 3, 7, 6, 9, 9, 6,\n",
       "       4, 3, 7, 4, 3, 9, 7, 6, 2, 9, 9, 9, 9, 9, 7, 4, 1, 4, 9, 6, 3, 7,\n",
       "       2, 7, 4, 9, 2, 6, 4, 7, 9, 8, 7, 6, 3, 7, 6, 8, 2, 7, 9, 8, 1, 2,\n",
       "       4, 1, 4, 4, 4, 9, 9, 3, 9, 3, 9, 1, 3, 6, 1, 3, 6, 3, 6, 9, 1, 3,\n",
       "       7, 2, 1, 7, 1, 3, 7, 4, 9, 4, 9, 6, 3, 7, 9, 3, 9, 3, 9, 7, 0, 3,\n",
       "       3, 4, 9, 4, 3, 7, 4, 4, 9, 6, 7, 6, 4, 6, 6, 7, 7, 4, 6, 7, 3, 6,\n",
       "       6, 4, 7, 1, 9, 9, 6, 9, 3, 9, 6, 3, 9, 4, 3, 6, 7, 6, 6, 4, 3, 7,\n",
       "       6, 4, 9, 7, 3, 9, 9, 7, 3, 9, 3, 6, 6, 6, 7, 6, 3, 2, 7, 3, 9, 3,\n",
       "       6, 9, 3, 6, 7, 6, 3, 3, 2, 2, 7, 3, 3, 3, 6, 7, 7, 9, 6, 7, 3, 9,\n",
       "       3, 3, 6, 6, 4, 9, 4, 1, 3, 3, 9, 4, 3, 8, 6, 7, 3, 9, 3, 4, 1, 4,\n",
       "       7, 3, 9, 6, 4, 1, 1, 3, 6, 7, 4, 2, 3, 6, 9, 1, 2, 6, 6, 9, 6, 6,\n",
       "       4, 3, 5, 4, 3, 8, 3, 3, 6, 1, 7, 1, 6, 4, 9, 3, 3, 6, 3, 9, 3, 7,\n",
       "       6, 7, 7, 6, 4, 6, 6, 6, 3, 7, 7, 7, 6, 4, 3, 3, 3, 6, 7, 3, 9, 6,\n",
       "       4, 4, 6, 7, 2, 9, 9, 8, 9, 3, 9, 8, 3, 6, 6, 4, 6, 4, 6, 8, 7, 7,\n",
       "       4, 6, 4, 4, 3, 4, 6, 7, 3, 9, 6, 1, 9, 6, 6, 3, 3, 8, 3, 6, 5, 2,\n",
       "       4, 6, 7, 7, 7, 6, 2, 4, 7, 3, 3, 7, 4, 6, 8, 3, 7, 3, 4, 5, 4, 4,\n",
       "       4, 6, 6, 3, 9, 6, 9, 8, 8, 3, 9, 9, 2, 3, 6, 3, 9, 6, 3, 6, 7, 4,\n",
       "       7, 8, 1, 9, 3, 4, 1, 9, 7, 8, 9, 6, 3, 3, 4, 6, 9, 2, 4, 4, 3, 9,\n",
       "       4, 6, 7, 6, 4, 6, 9, 7, 1, 7, 6, 9, 9, 4, 9, 6, 7, 7, 6, 9, 6, 9,\n",
       "       8, 9, 6, 7, 4, 6, 7, 4, 2, 6, 4, 9, 9, 4, 4, 3, 1, 3, 6, 6, 6, 3,\n",
       "       4, 4, 6, 4, 7, 6, 3, 3, 5, 9, 0, 9, 8, 9, 6, 9, 3, 7, 1, 3, 7, 4,\n",
       "       6, 7, 7, 8, 6, 4, 6, 9, 6, 9, 6, 4, 6, 6, 3, 9, 9, 6, 2, 2, 6, 3,\n",
       "       9, 3, 9, 3, 9, 6, 7, 9, 3, 3, 4, 6, 9, 3, 3, 6, 9, 3, 4, 0, 3, 1,\n",
       "       4, 9, 7, 6, 7, 7, 3, 3, 6, 3, 7, 9, 9, 3, 6, 3, 5, 7, 2, 2, 6, 3,\n",
       "       4, 3, 6, 3, 6, 3, 6, 5, 3, 9, 9, 3, 9, 3, 4, 5, 6, 3, 3, 7, 6, 4,\n",
       "       6, 6, 9, 4, 9, 6, 3, 3, 6, 9, 4, 9, 3, 3, 4, 2, 6, 3, 3, 9, 6, 3,\n",
       "       3, 3, 9, 6, 3, 4, 6, 4, 8, 3, 6, 6, 3, 7, 9, 6, 9, 2, 7, 6, 6, 6,\n",
       "       4, 9, 6, 3, 6, 3, 7, 7, 4, 6, 4, 6, 4, 9, 4, 9, 4, 6, 3, 3, 2, 6,\n",
       "       9, 3, 6, 4, 9, 9, 3, 3, 9, 9])"
      ]
     },
     "execution_count": 7,
     "metadata": {},
     "output_type": "execute_result"
    }
   ],
   "source": [
    "clustering.labels_"
   ]
  },
  {
   "cell_type": "code",
   "execution_count": 9,
   "metadata": {},
   "outputs": [],
   "source": [
    "import numpy as np"
   ]
  },
  {
   "cell_type": "code",
   "execution_count": 10,
   "metadata": {},
   "outputs": [
    {
     "name": "stderr",
     "output_type": "stream",
     "text": [
      "/tmp/ipykernel_337/2060270766.py:1: SettingWithCopyWarning: \n",
      "A value is trying to be set on a copy of a slice from a DataFrame.\n",
      "Try using .loc[row_indexer,col_indexer] = value instead\n",
      "\n",
      "See the caveats in the documentation: https://pandas.pydata.org/pandas-docs/stable/user_guide/indexing.html#returning-a-view-versus-a-copy\n",
      "  test['group'] = np.array(clustering.labels_)\n"
     ]
    }
   ],
   "source": [
    "test['group'] = np.array(clustering.labels_)"
   ]
  },
  {
   "cell_type": "code",
   "execution_count": 23,
   "metadata": {},
   "outputs": [
    {
     "data": {
      "text/html": [
       "<div>\n",
       "<style scoped>\n",
       "    .dataframe tbody tr th:only-of-type {\n",
       "        vertical-align: middle;\n",
       "    }\n",
       "\n",
       "    .dataframe tbody tr th {\n",
       "        vertical-align: top;\n",
       "    }\n",
       "\n",
       "    .dataframe thead th {\n",
       "        text-align: right;\n",
       "    }\n",
       "</style>\n",
       "<table border=\"1\" class=\"dataframe\">\n",
       "  <thead>\n",
       "    <tr style=\"text-align: right;\">\n",
       "      <th></th>\n",
       "      <th>duration_ms</th>\n",
       "      <th>explicit</th>\n",
       "      <th>danceability</th>\n",
       "      <th>energy</th>\n",
       "      <th>key</th>\n",
       "      <th>loudness</th>\n",
       "      <th>speechiness</th>\n",
       "      <th>acousticness</th>\n",
       "      <th>instrumentalness</th>\n",
       "      <th>liveness</th>\n",
       "      <th>valence</th>\n",
       "      <th>tempo</th>\n",
       "      <th>autor_code</th>\n",
       "      <th>group</th>\n",
       "    </tr>\n",
       "  </thead>\n",
       "  <tbody>\n",
       "    <tr>\n",
       "      <th>175</th>\n",
       "      <td>703373</td>\n",
       "      <td>1</td>\n",
       "      <td>0.347</td>\n",
       "      <td>0.302</td>\n",
       "      <td>0</td>\n",
       "      <td>-12.104</td>\n",
       "      <td>0.0291</td>\n",
       "      <td>0.1630</td>\n",
       "      <td>0.000092</td>\n",
       "      <td>0.140</td>\n",
       "      <td>0.0332</td>\n",
       "      <td>105.702</td>\n",
       "      <td>332</td>\n",
       "      <td>5</td>\n",
       "    </tr>\n",
       "    <tr>\n",
       "      <th>384</th>\n",
       "      <td>227933</td>\n",
       "      <td>1</td>\n",
       "      <td>0.484</td>\n",
       "      <td>0.165</td>\n",
       "      <td>7</td>\n",
       "      <td>-18.568</td>\n",
       "      <td>0.0498</td>\n",
       "      <td>0.7280</td>\n",
       "      <td>0.000001</td>\n",
       "      <td>0.115</td>\n",
       "      <td>0.1930</td>\n",
       "      <td>159.174</td>\n",
       "      <td>824</td>\n",
       "      <td>9</td>\n",
       "    </tr>\n",
       "    <tr>\n",
       "      <th>555</th>\n",
       "      <td>271933</td>\n",
       "      <td>1</td>\n",
       "      <td>0.485</td>\n",
       "      <td>0.943</td>\n",
       "      <td>4</td>\n",
       "      <td>-4.423</td>\n",
       "      <td>0.0416</td>\n",
       "      <td>0.0639</td>\n",
       "      <td>0.179000</td>\n",
       "      <td>0.144</td>\n",
       "      <td>0.8890</td>\n",
       "      <td>141.982</td>\n",
       "      <td>333</td>\n",
       "      <td>6</td>\n",
       "    </tr>\n",
       "  </tbody>\n",
       "</table>\n",
       "</div>"
      ],
      "text/plain": [
       "     duration_ms  explicit  danceability  energy  key  loudness  speechiness  \\\n",
       "175       703373         1         0.347   0.302    0   -12.104       0.0291   \n",
       "384       227933         1         0.484   0.165    7   -18.568       0.0498   \n",
       "555       271933         1         0.485   0.943    4    -4.423       0.0416   \n",
       "\n",
       "     acousticness  instrumentalness  liveness  valence    tempo  autor_code  \\\n",
       "175        0.1630          0.000092     0.140   0.0332  105.702         332   \n",
       "384        0.7280          0.000001     0.115   0.1930  159.174         824   \n",
       "555        0.0639          0.179000     0.144   0.8890  141.982         333   \n",
       "\n",
       "     group  \n",
       "175      5  \n",
       "384      9  \n",
       "555      6  "
      ]
     },
     "execution_count": 23,
     "metadata": {},
     "output_type": "execute_result"
    }
   ],
   "source": [
    "test[test['explicit']==1]"
   ]
  }
 ],
 "metadata": {
  "kernelspec": {
   "display_name": "Python 3",
   "language": "python",
   "name": "python3"
  },
  "language_info": {
   "codemirror_mode": {
    "name": "ipython",
    "version": 3
   },
   "file_extension": ".py",
   "mimetype": "text/x-python",
   "name": "python",
   "nbconvert_exporter": "python",
   "pygments_lexer": "ipython3",
   "version": "3.12.2"
  }
 },
 "nbformat": 4,
 "nbformat_minor": 2
}
